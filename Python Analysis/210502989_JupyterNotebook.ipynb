{
 "cells": [
  {
   "cell_type": "markdown",
   "id": "364e1dbd",
   "metadata": {},
   "source": [
    "# ST2195 Programming for Data Science Coursework\n",
    "#### Done by: Sebastian Tock Shao Xuan\n",
    "#### Student ID: 210502989\n",
    "\n",
    "In this file, we are going to perform data analysis on the Airline on-time data from the 2009 ASA Statistical Computing and Graphics Data Expo, the data consists of flight arrival and departure details for all commercial flights on major carriers within the USA, between October 1987 and April 2008. This is a very large dataset, therefore we have only selected a subset of consecutive years ranging from 2006 to 2007, the analysis is supported by relevant supplementary data available in the data expo.\n",
    "\n",
    "Included in this file, will be the steps taken starting from the extraction of the raw data up to the answer for each question. Before we begin the analysis it needs to be noted that there will be 3 .csv files in total that will be used in this analysis (2006.csv, 2007.csv and plane-data.csv). The .csv files can be downloaded from the Harvard Dataverse at https://doi.org/10.7910/DVN/HG7NV7\n",
    "\n",
    "Through this analysis we are going to answer the following questions:\n",
    "\n",
    "1. When is the best time of day, day of the week, and time of the year to fly to minimize delays?\n",
    "2. Do older planes suffer more delays?\n",
    "3. How does the number of people flying between different locations change over time?\n",
    "4. Can you detect cascading failures as delays in one airport create delays in others?\n",
    "5. Use the available variables to construct a model that predicts delays.\n",
    "\n",
    "## Pre-Analysis Preparations\n",
    "\n",
    "### Required libraries\n",
    "\n",
    "The following are the required libraries needed to run this file, If you are missing any of the packages please install them using `python -m pip install <package>` in the terminal"
   ]
  },
  {
   "cell_type": "code",
   "execution_count": 1,
   "id": "5fe2eba3",
   "metadata": {},
   "outputs": [],
   "source": [
    "import os\n",
    "import pandas as pd\n",
    "pd.options.mode.chained_assignment = None  # Removes Warning of chained assignment\n",
    "import numpy as np\n",
    "import scipy.stats\n",
    "import datetime as datetime\n",
    "from datetime import date, timedelta\n",
    "from plotnine import *\n",
    "import matplotlib.pyplot as plt\n",
    "import seaborn as sns\n",
    "from scipy import stats\n",
    "from sklearn import metrics\n",
    "from sklearn.model_selection import train_test_split\n",
    "from sklearn.linear_model import LogisticRegression\n",
    "from sklearn.metrics import plot_roc_curve, plot_confusion_matrix"
   ]
  },
  {
   "cell_type": "markdown",
   "id": "05ab54d4",
   "metadata": {},
   "source": [
    "After loading the required libraries we are going to load in the .csv files. Please ensure this file is in the same folder as the .csv files for this to work."
   ]
  },
  {
   "cell_type": "markdown",
   "id": "b67f76b2",
   "metadata": {},
   "source": [
    "### Loading in Data set\n",
    "\n",
    "Before any analysis can be done we will need to extract the data from the .csv files into data frames that we can manipulate in python, please ensure this file is in the same folder as the .csv files for it to work.\n",
    "\n",
    "The plane-data.csv file will be loaded into the 'planes' data frame"
   ]
  },
  {
   "cell_type": "code",
   "execution_count": 2,
   "id": "77669a26",
   "metadata": {},
   "outputs": [],
   "source": [
    "# ======= create dataframes =======\n",
    "\n",
    "# Load in relavant data from .csv files\n",
    "## loading in planes data from .csv file\n",
    "planes = pd.read_csv(\"plane-data.csv\")"
   ]
  },
  {
   "cell_type": "markdown",
   "id": "f5210f44",
   "metadata": {},
   "source": [
    "To extract the plane-data.csv, we only need to use the `pd.read_csv()` function to load the .csv file into the planes data frame."
   ]
  },
  {
   "cell_type": "code",
   "execution_count": 3,
   "id": "887e877a",
   "metadata": {},
   "outputs": [],
   "source": [
    "# ======= create dataframes =======\n",
    "\n",
    "## loading in data to form ontime table\n",
    "### A subset of 2 years ranging from 2006 to 2007 is selected for my analysis\n",
    "ontime = pd.concat([pd.read_csv(str(f)+\".csv\") for f in range(2006,2008)])"
   ]
  },
  {
   "cell_type": "markdown",
   "id": "db1bab13",
   "metadata": {},
   "source": [
    "To extract the 2006.csv and 2007.csv files, we will only need to pass the `pd.read_csv()` function through a `for-loop` to loop through the selected years and using to `pd.concat()` to append the years consecutively into ontime. \n",
    "\n",
    "#### Looking at how the data frames have been structured\n",
    "\n",
    "After loading in the data into data frames, we will have to look through the data frame for any errors or corrupted data, and perform any data cleaning that is needed. This needs to be done as the insights provided by the analysis is only as good as the data we feed it, therefore, to ensure an accurate and insightful analysis we will have to “clean” the data."
   ]
  },
  {
   "cell_type": "markdown",
   "id": "7ae054a8",
   "metadata": {},
   "source": [
    "#### ontime data frame"
   ]
  },
  {
   "cell_type": "code",
   "execution_count": 4,
   "id": "3861ec90",
   "metadata": {},
   "outputs": [
    {
     "name": "stdout",
     "output_type": "stream",
     "text": [
      "<class 'pandas.core.frame.DataFrame'>\n",
      "Int64Index: 14595137 entries, 0 to 7453214\n",
      "Data columns (total 29 columns):\n",
      " #   Column             Dtype  \n",
      "---  ------             -----  \n",
      " 0   Year               int64  \n",
      " 1   Month              int64  \n",
      " 2   DayofMonth         int64  \n",
      " 3   DayOfWeek          int64  \n",
      " 4   DepTime            float64\n",
      " 5   CRSDepTime         int64  \n",
      " 6   ArrTime            float64\n",
      " 7   CRSArrTime         int64  \n",
      " 8   UniqueCarrier      object \n",
      " 9   FlightNum          int64  \n",
      " 10  TailNum            object \n",
      " 11  ActualElapsedTime  float64\n",
      " 12  CRSElapsedTime     float64\n",
      " 13  AirTime            float64\n",
      " 14  ArrDelay           float64\n",
      " 15  DepDelay           float64\n",
      " 16  Origin             object \n",
      " 17  Dest               object \n",
      " 18  Distance           int64  \n",
      " 19  TaxiIn             int64  \n",
      " 20  TaxiOut            int64  \n",
      " 21  Cancelled          int64  \n",
      " 22  CancellationCode   object \n",
      " 23  Diverted           int64  \n",
      " 24  CarrierDelay       int64  \n",
      " 25  WeatherDelay       int64  \n",
      " 26  NASDelay           int64  \n",
      " 27  SecurityDelay      int64  \n",
      " 28  LateAircraftDelay  int64  \n",
      "dtypes: float64(7), int64(17), object(5)\n",
      "memory usage: 3.3+ GB\n"
     ]
    }
   ],
   "source": [
    "# Looking into the data structure of ontime\n",
    "ontime.info()"
   ]
  },
  {
   "cell_type": "markdown",
   "id": "8d65561c",
   "metadata": {},
   "source": [
    "Using the `.info()` function we can take a look at how ontime has been structured. We can see that there are 14,595,137 entries and 29 columns, this is a relatively large data set so it is impossible to look through it in its entirety to look for errors.\n",
    "\n",
    "Preliminary observations from looking at the data structure of ontime, we can see that the date values are separated into 3 columns namely Year, Month and DayofMonth, and these attributes have been formatted as int data type."
   ]
  },
  {
   "cell_type": "code",
   "execution_count": 5,
   "id": "8dc1ea27",
   "metadata": {},
   "outputs": [
    {
     "data": {
      "text/plain": [
       "Year                        0\n",
       "Month                       0\n",
       "DayofMonth                  0\n",
       "DayOfWeek                   0\n",
       "DepTime                282682\n",
       "CRSDepTime                  0\n",
       "ArrTime                316047\n",
       "CRSArrTime                  0\n",
       "UniqueCarrier               0\n",
       "FlightNum                   0\n",
       "TailNum                    22\n",
       "ActualElapsedTime      316047\n",
       "CRSElapsedTime            998\n",
       "AirTime                316047\n",
       "ArrDelay               316047\n",
       "DepDelay               282682\n",
       "Origin                      0\n",
       "Dest                        0\n",
       "Distance                    0\n",
       "TaxiIn                      0\n",
       "TaxiOut                     0\n",
       "Cancelled                   0\n",
       "CancellationCode     14312454\n",
       "Diverted                    0\n",
       "CarrierDelay                0\n",
       "WeatherDelay                0\n",
       "NASDelay                    0\n",
       "SecurityDelay               0\n",
       "LateAircraftDelay           0\n",
       "dtype: int64"
      ]
     },
     "execution_count": 5,
     "metadata": {},
     "output_type": "execute_result"
    }
   ],
   "source": [
    "# Counting the number of null values in each column\n",
    "ontime.isnull().sum()"
   ]
  },
  {
   "cell_type": "markdown",
   "id": "f0615483",
   "metadata": {},
   "source": [
    "Using `.isnull()` function to return a Boolean value on whether there is null values or not, and then using `.sum()` to return the total number of null values in each column.\n",
    "\n",
    "Now that we know the existence of null values, we will have to remove them to prevent them from affecting the analysis.\n",
    "\n",
    "After eyeballing ontime as a table, we noticed that the “NaN” values only appear whenever there is Cancelled or Diverted Flights.\n",
    "\n",
    "#### Cleaning the ontime data frame"
   ]
  },
  {
   "cell_type": "code",
   "execution_count": 6,
   "id": "41dc2fa4",
   "metadata": {},
   "outputs": [],
   "source": [
    "# ======= Cleaning Data ============\n",
    "# From ontime table\n",
    "# Filtering out diverted and cancelled flights\n",
    "ontime = ontime.query(\"Cancelled == 0 & Diverted == 0\") # Looking at completed flights for this analysis\n",
    "\n",
    "# Creating date column\n",
    "ontime['date'] = ontime.apply(lambda x: datetime.date(x['Year'], x['Month'], x['DayofMonth']), axis=1)\n",
    "ontime['date'] = pd.to_datetime(ontime['date'])"
   ]
  },
  {
   "cell_type": "markdown",
   "id": "1f62b67a",
   "metadata": {},
   "source": [
    "To solve the issue of the date values in the ontime data frame, we applied a `lambda` function based on the `datetime.date()` function using `.apply()` to combine the Year, Month and DayofMonth columns to create the date column in the correct `datetime` data type. \n",
    "\n",
    "The removal of the “NaN” values in ontime is then filtered out using `.query()`. By filtering out the cancelled and diverted flights, we will only be looking at the completed flights, this does not interfere with our analysis as the questions are mostly based around delays.\n",
    "\n",
    "#### Cleaned ontime data frame"
   ]
  },
  {
   "cell_type": "code",
   "execution_count": 7,
   "id": "a21364da",
   "metadata": {},
   "outputs": [
    {
     "name": "stdout",
     "output_type": "stream",
     "text": [
      "<class 'pandas.core.frame.DataFrame'>\n",
      "Int64Index: 14279090 entries, 0 to 7453214\n",
      "Data columns (total 30 columns):\n",
      " #   Column             Dtype         \n",
      "---  ------             -----         \n",
      " 0   Year               int64         \n",
      " 1   Month              int64         \n",
      " 2   DayofMonth         int64         \n",
      " 3   DayOfWeek          int64         \n",
      " 4   DepTime            float64       \n",
      " 5   CRSDepTime         int64         \n",
      " 6   ArrTime            float64       \n",
      " 7   CRSArrTime         int64         \n",
      " 8   UniqueCarrier      object        \n",
      " 9   FlightNum          int64         \n",
      " 10  TailNum            object        \n",
      " 11  ActualElapsedTime  float64       \n",
      " 12  CRSElapsedTime     float64       \n",
      " 13  AirTime            float64       \n",
      " 14  ArrDelay           float64       \n",
      " 15  DepDelay           float64       \n",
      " 16  Origin             object        \n",
      " 17  Dest               object        \n",
      " 18  Distance           int64         \n",
      " 19  TaxiIn             int64         \n",
      " 20  TaxiOut            int64         \n",
      " 21  Cancelled          int64         \n",
      " 22  CancellationCode   object        \n",
      " 23  Diverted           int64         \n",
      " 24  CarrierDelay       int64         \n",
      " 25  WeatherDelay       int64         \n",
      " 26  NASDelay           int64         \n",
      " 27  SecurityDelay      int64         \n",
      " 28  LateAircraftDelay  int64         \n",
      " 29  date               datetime64[ns]\n",
      "dtypes: datetime64[ns](1), float64(7), int64(17), object(5)\n",
      "memory usage: 3.3+ GB\n"
     ]
    }
   ],
   "source": [
    "# Looking into the data structure of the cleaned ontime\n",
    "ontime.info()"
   ]
  },
  {
   "cell_type": "markdown",
   "id": "f38b260c",
   "metadata": {},
   "source": [
    "Looking at the cleaned ontime data frame, we can see that the number of entries went down to 14,279,090 but an increase of columns to 30. The new column is namely the Date attribute formatted as a `datetime` data type."
   ]
  },
  {
   "cell_type": "code",
   "execution_count": 8,
   "id": "48b75b64",
   "metadata": {},
   "outputs": [
    {
     "data": {
      "text/plain": [
       "Year                        0\n",
       "Month                       0\n",
       "DayofMonth                  0\n",
       "DayOfWeek                   0\n",
       "DepTime                     0\n",
       "CRSDepTime                  0\n",
       "ArrTime                     0\n",
       "CRSArrTime                  0\n",
       "UniqueCarrier               0\n",
       "FlightNum                   0\n",
       "TailNum                     0\n",
       "ActualElapsedTime           0\n",
       "CRSElapsedTime              0\n",
       "AirTime                     0\n",
       "ArrDelay                    0\n",
       "DepDelay                    0\n",
       "Origin                      0\n",
       "Dest                        0\n",
       "Distance                    0\n",
       "TaxiIn                      0\n",
       "TaxiOut                     0\n",
       "Cancelled                   0\n",
       "CancellationCode     14279089\n",
       "Diverted                    0\n",
       "CarrierDelay                0\n",
       "WeatherDelay                0\n",
       "NASDelay                    0\n",
       "SecurityDelay               0\n",
       "LateAircraftDelay           0\n",
       "date                        0\n",
       "dtype: int64"
      ]
     },
     "execution_count": 8,
     "metadata": {},
     "output_type": "execute_result"
    }
   ],
   "source": [
    "# Counting the number of null values in each column\n",
    "ontime.isnull().sum()"
   ]
  },
  {
   "cell_type": "markdown",
   "id": "6a6e8610",
   "metadata": {},
   "source": [
    "Looking at the output above, we can see that there is no more null values apart for CancellationCode column, and since the CancellationCode does not affect our analysis, we can ignore this.\n",
    "\n",
    "With this we are done cleaning the ontime data frame.\n",
    "\n",
    "#### planes data data frame"
   ]
  },
  {
   "cell_type": "code",
   "execution_count": 9,
   "id": "ef9b88b1",
   "metadata": {},
   "outputs": [
    {
     "name": "stdout",
     "output_type": "stream",
     "text": [
      "<class 'pandas.core.frame.DataFrame'>\n",
      "RangeIndex: 5029 entries, 0 to 5028\n",
      "Data columns (total 9 columns):\n",
      " #   Column         Non-Null Count  Dtype \n",
      "---  ------         --------------  ----- \n",
      " 0   tailnum        5029 non-null   object\n",
      " 1   type           4480 non-null   object\n",
      " 2   manufacturer   4480 non-null   object\n",
      " 3   issue_date     4480 non-null   object\n",
      " 4   model          4480 non-null   object\n",
      " 5   status         4480 non-null   object\n",
      " 6   aircraft_type  4480 non-null   object\n",
      " 7   engine_type    4480 non-null   object\n",
      " 8   year           4480 non-null   object\n",
      "dtypes: object(9)\n",
      "memory usage: 353.7+ KB\n"
     ]
    }
   ],
   "source": [
    "# Looking into the data structure of planes\n",
    "planes.info()"
   ]
  },
  {
   "cell_type": "markdown",
   "id": "4c185364",
   "metadata": {},
   "source": [
    "Looking at the structure of the planes data frame, we can see that there is 5,029 entries with 9 columns, this is a smaller data frame as compared the ontime data frame. But looking through it all for errors is still a needless task.\n",
    "\n",
    "Preliminary observations from looking at the data structure of planes, we noticed that issue_date is formatted as a chr data type.\n",
    "\n",
    "By eyeballing through planes as a table, we noticed that there are some rows that contain “ ” values."
   ]
  },
  {
   "cell_type": "code",
   "execution_count": 10,
   "id": "f1562e35",
   "metadata": {},
   "outputs": [
    {
     "data": {
      "text/plain": [
       "tailnum            0\n",
       "type             549\n",
       "manufacturer     549\n",
       "issue_date       549\n",
       "model            549\n",
       "status           549\n",
       "aircraft_type    549\n",
       "engine_type      549\n",
       "year             549\n",
       "dtype: int64"
      ]
     },
     "execution_count": 10,
     "metadata": {},
     "output_type": "execute_result"
    }
   ],
   "source": [
    "# Counting the number of null values in each column\n",
    "planes.isnull().sum()"
   ]
  },
  {
   "cell_type": "markdown",
   "id": "05abe81f",
   "metadata": {},
   "source": [
    "We can see from the output above that there is 549 rows with null values.\n",
    "\n",
    "#### Cleaning the planes data frame"
   ]
  },
  {
   "cell_type": "code",
   "execution_count": 11,
   "id": "78eed6f7",
   "metadata": {},
   "outputs": [],
   "source": [
    "# ======= Cleaning Data ============\n",
    "# From plane table\n",
    "# Formating issue_date into str to remove NaN Values\n",
    "planes[['Month', 'Day', 'Year']] = planes['issue_date'].astype('str').str.split('/', expand = True)\n",
    "planes = planes.dropna() # Dropping rows with NA values\n",
    "\n",
    "# Creating issue_date column\n",
    "planes['issue_date'] = pd.to_datetime(planes[['Year', 'Month', 'Day']])"
   ]
  },
  {
   "cell_type": "markdown",
   "id": "bb27e489",
   "metadata": {},
   "source": [
    "To resolve the issues in the planes data frame, we converted issue_date into a string using `astype('str')` then separated it using `.str.split()`  on the separator “/” in to Month, Day and Year columns, the rationale behind this is that it causes the rows with blank values to return “NaN” since they do not contain “/”, we then remove the “NaN” values using `.dropna()`. We have to do this in such a convoluted way as the blank values have proven itself stubborn against usual ways of removing them. Issue_date is then recreated using `pd.to_datetime()`,this function formats issue_date as a `datetime` data type automatically.\n",
    "\n",
    "#### Cleaned planes data frame"
   ]
  },
  {
   "cell_type": "code",
   "execution_count": 12,
   "id": "ffad84d7",
   "metadata": {},
   "outputs": [
    {
     "name": "stdout",
     "output_type": "stream",
     "text": [
      "<class 'pandas.core.frame.DataFrame'>\n",
      "Int64Index: 4479 entries, 34 to 5028\n",
      "Data columns (total 12 columns):\n",
      " #   Column         Non-Null Count  Dtype         \n",
      "---  ------         --------------  -----         \n",
      " 0   tailnum        4479 non-null   object        \n",
      " 1   type           4479 non-null   object        \n",
      " 2   manufacturer   4479 non-null   object        \n",
      " 3   issue_date     4479 non-null   datetime64[ns]\n",
      " 4   model          4479 non-null   object        \n",
      " 5   status         4479 non-null   object        \n",
      " 6   aircraft_type  4479 non-null   object        \n",
      " 7   engine_type    4479 non-null   object        \n",
      " 8   year           4479 non-null   object        \n",
      " 9   Month          4479 non-null   object        \n",
      " 10  Day            4479 non-null   object        \n",
      " 11  Year           4479 non-null   object        \n",
      "dtypes: datetime64[ns](1), object(11)\n",
      "memory usage: 454.9+ KB\n"
     ]
    }
   ],
   "source": [
    "# Looking into the data structure of planes\n",
    "planes.info()"
   ]
  },
  {
   "cell_type": "markdown",
   "id": "8a1c4ed6",
   "metadata": {},
   "source": [
    "We can see that from the structure of the cleaned planes data frame, the entries dropped to 4479 with an increase to 12 columns. We can now see issue_date in the correct Date data type."
   ]
  },
  {
   "cell_type": "code",
   "execution_count": 13,
   "id": "0f840d5a",
   "metadata": {},
   "outputs": [
    {
     "data": {
      "text/plain": [
       "tailnum          0\n",
       "type             0\n",
       "manufacturer     0\n",
       "issue_date       0\n",
       "model            0\n",
       "status           0\n",
       "aircraft_type    0\n",
       "engine_type      0\n",
       "year             0\n",
       "Month            0\n",
       "Day              0\n",
       "Year             0\n",
       "dtype: int64"
      ]
     },
     "execution_count": 13,
     "metadata": {},
     "output_type": "execute_result"
    }
   ],
   "source": [
    "# Counting the number of null values in each column\n",
    "planes.isnull().sum()"
   ]
  },
  {
   "cell_type": "markdown",
   "id": "467c75e7",
   "metadata": {},
   "source": [
    "From the output above we can see that we successfully removed all null values from the dataframe. With this we are done cleaning the planes table.\n",
    "\n",
    "## Data Analysis\n",
    "\n",
    "### Question 1\n",
    "\n",
    "#### When is the best time of day, day of the week, and time of year to fly to minimize delays?\n",
    "\n",
    "To answer this question, we decided to categorize the Month attribute as seasons to represent time of the year, CRSDepTime attribute as the various time of day and the DayofWeek attribute as the day of the week. We will be selecting Arrival Delays (ArrDelay) as the indicator of delay as flights can depart late and still arrive early or on time, so from the perspective of the passenger, arrival delays will impact their travel plans more."
   ]
  },
  {
   "cell_type": "code",
   "execution_count": 14,
   "id": "d663e953",
   "metadata": {},
   "outputs": [],
   "source": [
    "# ===== Forming the Delays table for analysis ======\n",
    "\n",
    "# Delays Table\n",
    "Delays = ontime\n",
    "\n",
    "# Time of Year will be represented by Seasons.\n",
    "def find_Season(Month):\n",
    "    Season_month = {\n",
    "            12:'Winter', 1:'Winter', 2:'Winter',\n",
    "            3:'Spring', 4:'Spring', 5:'Spring',\n",
    "            6:'Summer', 7:'Summer', 8:'Summer',\n",
    "            9:'Autumn', 10:'Autumn', 11:'Autumn'}\n",
    "    return Season_month.get(Month)\n",
    "\n",
    "Season_List = []\n",
    "\n",
    "for Month in Delays['Month']:\n",
    "    season = find_Season(Month)\n",
    "    Season_List.append(season)\n",
    "    \n",
    "Delays['Season'] = Season_List\n",
    "\n",
    "# A time frame of 4 hours is selected for time of day\n",
    "def find_time(CRSDepTime):\n",
    "    if CRSDepTime in range(500,1200):\n",
    "        return \"Morning\"\n",
    "    elif CRSDepTime in range(1200, 1700):\n",
    "        return \"Afternoon\"\n",
    "    elif CRSDepTime in range(1700, 2100):\n",
    "        return \"Evening\"\n",
    "    else:\n",
    "        return \"Night\"\n",
    "    \n",
    "TimeofDay_list =[]\n",
    "\n",
    "for CRSDepTime in Delays['CRSDepTime']:\n",
    "    TimeofDay = find_time(CRSDepTime)\n",
    "    TimeofDay_list.append(TimeofDay)\n",
    "\n",
    "Delays['TimeofDay'] = TimeofDay_list\n",
    "\n",
    "# Day of Week Function\n",
    "def find_day(DayOfWeek):\n",
    "    Day = {\n",
    "        1:'Monday', 2:'Tuesday', 3:'Wednesday',\n",
    "        4:'Thursday', 5:'Friday', 6:'Saturday',\n",
    "        7:'Sunday'}\n",
    "    return Day.get(DayOfWeek)\n",
    "\n",
    "Day_list = []\n",
    "\n",
    "for DayOfWeek in Delays['DayOfWeek']:\n",
    "    Day = find_day(DayOfWeek)\n",
    "    Day_list.append(Day)\n",
    "\n",
    "Delays['Day'] = Day_list\n",
    "\n",
    "# Finding out which flights has DepDelays\n",
    "def delayed(ArrDelay):\n",
    "    if ArrDelay > 0:\n",
    "        return 1\n",
    "    else:\n",
    "        return 0\n",
    "        \n",
    "Delayed_list = []\n",
    "\n",
    "for ArrDelay in Delays['ArrDelay']:\n",
    "    Delay = delayed(ArrDelay)\n",
    "    Delayed_list.append(Delay)\n",
    "    \n",
    "Delays['Delayed'] = Delayed_list"
   ]
  },
  {
   "cell_type": "markdown",
   "id": "a919c624",
   "metadata": {},
   "source": [
    "We created the Delays table from the ontime data frame. We did not use `.copy()` here as we wanted the changes we made to be passed on to the ontime data frame as well.\n",
    "\n",
    "We then create new columns by defining functions such as the `find_season(month)` function where we specified that the numeric values will be converted to their respective seasons, we then used a `for-loop` to loop through the entire Month column in the Delays table to return a 'season' value to be added to a list, we then pass the list into a new column in Delays named 'Season'.\n",
    "\n",
    "The `find_time(CRSDepTime)` function is defined in such a way that it goes through a `if-elif-else` statement that returns “Morning” when CRSDepTime is between 500 and 1200, “Afternoon” when CRSDepTime is between 1200 and 1700, “Evening” when CRSDepTime is between 1700 and 2100, and \"Night\" for the rest of the values this is based on the logic that if time of day is not “Morning” or “Afternoon” or “Evening” it has to be “Night”. We then pass the function into a `for-loop` to loop through the entire CRSDepTime column in the Delays table to add a 'Time' value to a list, the list is then passed into a new column in Delays named 'TimeofDay'.\n",
    "\n",
    "The `find_day(DayofWeek)` function is defined in such a way that the numeric values will return the corresponding day in word form, we then use a `for-loop` to loop through the entire DayofWeek column in the Delays table to add a 'Day' value to a list, the list is then passed into a new column in Delays named 'Day'.\n",
    "\n",
    "The `delayed(ArrDelay)` function is defined in such a way that it uses a `if-else` statement to return a 1 when ArrDelay is greater than 0 otherwise return a 0 when it is not. We then use a `for-loop` to loop through the entire ArrDelay column in the Delays table to add a 'Delayed' value to a list, the list is then passed into a new column in Delays named \"Delayed\"\n",
    "\n",
    "#### Delays table"
   ]
  },
  {
   "cell_type": "code",
   "execution_count": 15,
   "id": "1c817263",
   "metadata": {},
   "outputs": [
    {
     "data": {
      "text/html": [
       "<div>\n",
       "<style scoped>\n",
       "    .dataframe tbody tr th:only-of-type {\n",
       "        vertical-align: middle;\n",
       "    }\n",
       "\n",
       "    .dataframe tbody tr th {\n",
       "        vertical-align: top;\n",
       "    }\n",
       "\n",
       "    .dataframe thead tr th {\n",
       "        text-align: left;\n",
       "    }\n",
       "</style>\n",
       "<table border=\"1\" class=\"dataframe\">\n",
       "  <thead>\n",
       "    <tr>\n",
       "      <th></th>\n",
       "      <th>Season</th>\n",
       "      <th>Day</th>\n",
       "      <th>TimeofDay</th>\n",
       "      <th>PercentageDelay</th>\n",
       "      <th>AvgDelay</th>\n",
       "    </tr>\n",
       "    <tr>\n",
       "      <th></th>\n",
       "      <th></th>\n",
       "      <th></th>\n",
       "      <th></th>\n",
       "      <th></th>\n",
       "      <th></th>\n",
       "    </tr>\n",
       "  </thead>\n",
       "  <tbody>\n",
       "    <tr>\n",
       "      <th>11</th>\n",
       "      <td>Autumn</td>\n",
       "      <td>Saturday</td>\n",
       "      <td>Night</td>\n",
       "      <td>31.541610</td>\n",
       "      <td>-1.395471</td>\n",
       "    </tr>\n",
       "    <tr>\n",
       "      <th>14</th>\n",
       "      <td>Autumn</td>\n",
       "      <td>Sunday</td>\n",
       "      <td>Morning</td>\n",
       "      <td>32.228418</td>\n",
       "      <td>-0.591528</td>\n",
       "    </tr>\n",
       "    <tr>\n",
       "      <th>9</th>\n",
       "      <td>Autumn</td>\n",
       "      <td>Saturday</td>\n",
       "      <td>Evening</td>\n",
       "      <td>33.123461</td>\n",
       "      <td>0.953336</td>\n",
       "    </tr>\n",
       "    <tr>\n",
       "      <th>42</th>\n",
       "      <td>Spring</td>\n",
       "      <td>Sunday</td>\n",
       "      <td>Morning</td>\n",
       "      <td>33.561409</td>\n",
       "      <td>0.196210</td>\n",
       "    </tr>\n",
       "    <tr>\n",
       "      <th>10</th>\n",
       "      <td>Autumn</td>\n",
       "      <td>Saturday</td>\n",
       "      <td>Morning</td>\n",
       "      <td>34.478263</td>\n",
       "      <td>0.805699</td>\n",
       "    </tr>\n",
       "    <tr>\n",
       "      <th>...</th>\n",
       "      <td>...</td>\n",
       "      <td>...</td>\n",
       "      <td>...</td>\n",
       "      <td>...</td>\n",
       "      <td>...</td>\n",
       "    </tr>\n",
       "    <tr>\n",
       "      <th>59</th>\n",
       "      <td>Summer</td>\n",
       "      <td>Friday</td>\n",
       "      <td>Night</td>\n",
       "      <td>61.800230</td>\n",
       "      <td>21.335634</td>\n",
       "    </tr>\n",
       "    <tr>\n",
       "      <th>75</th>\n",
       "      <td>Summer</td>\n",
       "      <td>Thursday</td>\n",
       "      <td>Night</td>\n",
       "      <td>63.423885</td>\n",
       "      <td>24.174566</td>\n",
       "    </tr>\n",
       "    <tr>\n",
       "      <th>85</th>\n",
       "      <td>Winter</td>\n",
       "      <td>Friday</td>\n",
       "      <td>Evening</td>\n",
       "      <td>63.710621</td>\n",
       "      <td>24.079025</td>\n",
       "    </tr>\n",
       "    <tr>\n",
       "      <th>57</th>\n",
       "      <td>Summer</td>\n",
       "      <td>Friday</td>\n",
       "      <td>Evening</td>\n",
       "      <td>64.001803</td>\n",
       "      <td>27.385189</td>\n",
       "    </tr>\n",
       "    <tr>\n",
       "      <th>73</th>\n",
       "      <td>Summer</td>\n",
       "      <td>Thursday</td>\n",
       "      <td>Evening</td>\n",
       "      <td>65.764063</td>\n",
       "      <td>30.383561</td>\n",
       "    </tr>\n",
       "  </tbody>\n",
       "</table>\n",
       "<p>112 rows × 5 columns</p>\n",
       "</div>"
      ],
      "text/plain": [
       "    Season       Day TimeofDay PercentageDelay   AvgDelay\n",
       "                                                         \n",
       "11  Autumn  Saturday     Night       31.541610  -1.395471\n",
       "14  Autumn    Sunday   Morning       32.228418  -0.591528\n",
       "9   Autumn  Saturday   Evening       33.123461   0.953336\n",
       "42  Spring    Sunday   Morning       33.561409   0.196210\n",
       "10  Autumn  Saturday   Morning       34.478263   0.805699\n",
       "..     ...       ...       ...             ...        ...\n",
       "59  Summer    Friday     Night       61.800230  21.335634\n",
       "75  Summer  Thursday     Night       63.423885  24.174566\n",
       "85  Winter    Friday   Evening       63.710621  24.079025\n",
       "57  Summer    Friday   Evening       64.001803  27.385189\n",
       "73  Summer  Thursday   Evening       65.764063  30.383561\n",
       "\n",
       "[112 rows x 5 columns]"
      ]
     },
     "execution_count": 15,
     "metadata": {},
     "output_type": "execute_result"
    }
   ],
   "source": [
    "# ========== Deriving Percentage of Delay and Average Arrival Delay ==============\n",
    "# Grouping the data by Season, Day and Time of Day\n",
    "Delays = Delays.groupby(['Season', 'Day', 'TimeofDay'], as_index = False).agg({'Delayed': ['size', 'sum'], 'ArrDelay': ['mean']})\n",
    "\n",
    "# Calculating ProbabilityofDelay\n",
    "Delays['PercentageDelay'] = Delays[('Delayed', 'sum')]/ Delays[('Delayed', 'size')] * 100\n",
    "\n",
    "Delays['AvgDelay'] = Delays[('ArrDelay', 'mean')]\n",
    "\n",
    "Delays = Delays[['Season', 'Day', 'TimeofDay', 'PercentageDelay', 'AvgDelay']]\n",
    "\n",
    "Delays.sort_values(by = ['PercentageDelay'])"
   ]
  },
  {
   "cell_type": "markdown",
   "id": "ebe44b7f",
   "metadata": {},
   "source": [
    "We then group the Delays table by Season, Day and TimeofDay using the function `.groupby()`, then use the `.agg()` function inconjuction to derive the size and sum of the Delayed column as well as the mean of ArrDelay.\n",
    "\n",
    "The Percentage of Arrival Delay (PercentageDelay) is then calculated using the size and sum of the Delayed column, we renamed the mean of ArrDelay into AvgDelay.\n",
    "\n",
    "#### Visualizing the Delays Table\n",
    "We decided to create a connected scatter of the Flights table to visualize the results of the analysis of ArrDelay with respect to time.\n",
    "\n",
    "We decided to use the `plotnine` library here to mimic the `ggplot` library to replicate the plots made in R."
   ]
  },
  {
   "cell_type": "code",
   "execution_count": 16,
   "id": "15b7716e",
   "metadata": {},
   "outputs": [
    {
     "data": {
      "image/png": "[encoded data removed]",
      "text/plain": [
       "<Figure size 640x480 with 4 Axes>"
      ]
     },
     "metadata": {},
     "output_type": "display_data"
    },
    {
     "data": {
      "text/plain": [
       "<ggplot: (8776937212426)>"
      ]
     },
     "execution_count": 16,
     "metadata": {},
     "output_type": "execute_result"
    }
   ],
   "source": [
    "# Using plotnine library to mimic ggplot\n",
    "(\n",
    "    ggplot(Delays, aes(x = 'TimeofDay', y = 'PercentageDelay', group = 'Day', colour = 'Day'))\n",
    "    + geom_point()\n",
    "    + geom_line()\n",
    "    + facet_wrap('Season')\n",
    "    + labs(y ='Percentage of Arrival Delay (%)', x = 'Time of Day')\n",
    "    + theme(axis_text_x = element_text(size = 5))\n",
    "    + ggtitle(\"Percentage of Arrival Delay\")\n",
    ")"
   ]
  },
  {
   "cell_type": "markdown",
   "id": "aba726b3",
   "metadata": {},
   "source": [
    "From the plot of Percentage of Arrival Delay, we can see that in general Autumn has the lowest percentage of arrival delay as it hits a maximum of around 56% and a minimum of around 31%. we can also see that the shape of the plot is generally the same with the exception of the lines of Saturday causing some variation in the plots."
   ]
  },
  {
   "cell_type": "code",
   "execution_count": 17,
   "id": "41ea72dc",
   "metadata": {},
   "outputs": [
    {
     "data": {
      "image/png": "[encoded data removed]",
      "text/plain": [
       "<Figure size 640x480 with 4 Axes>"
      ]
     },
     "metadata": {},
     "output_type": "display_data"
    },
    {
     "data": {
      "text/plain": [
       "<ggplot: (8777506111187)>"
      ]
     },
     "execution_count": 17,
     "metadata": {},
     "output_type": "execute_result"
    }
   ],
   "source": [
    "# Using plotnine library to mimic ggplot\n",
    "(\n",
    "    ggplot(Delays, aes(x = 'TimeofDay', y = 'AvgDelay', group = 'Day', colour = 'Day'))\n",
    "    + geom_point()\n",
    "    + geom_line()\n",
    "    + facet_wrap('Season')\n",
    "    + labs(y ='Average Arrival Delay (in minutes)', x = 'Time of Day')\n",
    "    + theme(axis_text_x = element_text(size = 5))\n",
    "    + ggtitle(\"Average Arrival Delay\")\n",
    ")"
   ]
  },
  {
   "cell_type": "markdown",
   "id": "29d510c6",
   "metadata": {},
   "source": [
    "Looking at the plot of Average Arrival Delay, we can see that in general Autumn has the lowest average arrival delays as it hits a maximum average of 17 minutes and a minimum average of -1.39 minutes. We can also see that the plot generally has the same shape with the exception of Autumn’s Saturday.\n",
    "\n",
    "#### Results of Analysis\n",
    "Looking at the Delays Table and its plot, we can identify that the time of day, day of the week, and time of year that minimized delays will be on a Autumn, Saturday around Night time with a percentage of arrival delay of 31.54% with an Average Arrival Delay time of -1.4 minutes.\n",
    "\n",
    "### Question 2\n",
    "\n",
    "#### Do older planes suffer more delays?\n",
    "\n",
    "To answer this question we will have to join the ontime dataframe and the planes dataframe, and using the joined table to derive the age of the plane during the flight."
   ]
  },
  {
   "cell_type": "code",
   "execution_count": 18,
   "id": "effb73e1",
   "metadata": {},
   "outputs": [],
   "source": [
    "# ===== Forming the AircraftAge_Delays table for analysis ======\n",
    "AircraftAge_Delays = ontime\n",
    "\n",
    "# Joining the AircraftAge_Delays table with the planes table\n",
    "AircraftAge_Delays = pd.merge(AircraftAge_Delays, planes, left_on = 'TailNum', right_on = 'tailnum')\n",
    "\n",
    "# issue_date will be assumed to be the start of the operation of the planes\n",
    "AircraftAge_Delays['AircraftAge'] = (AircraftAge_Delays['date'] - AircraftAge_Delays['issue_date']) // timedelta(days = 365.2425)"
   ]
  },
  {
   "cell_type": "markdown",
   "id": "c3054fdd",
   "metadata": {},
   "source": [
    "We created the AircraftAge_Delay using `pd.merge()` function to join the ontime data frame and planes data frame on the same tailnum(TailNum in ontime), we then derived AircraftAge at the time of the flight by finding the difference between the date and issue_date and dividing it by a `timedelta(days = 365.2425).`\n",
    "\n",
    "#### AircraftAge_Delay Table\n",
    "\n",
    "We will selecting all relevant data to answer this question. For this question we will still be using ArrDelay as the indicator of delays."
   ]
  },
  {
   "cell_type": "code",
   "execution_count": 19,
   "id": "3e3f7964",
   "metadata": {},
   "outputs": [
    {
     "data": {
      "text/html": [
       "<div>\n",
       "<style scoped>\n",
       "    .dataframe tbody tr th:only-of-type {\n",
       "        vertical-align: middle;\n",
       "    }\n",
       "\n",
       "    .dataframe tbody tr th {\n",
       "        vertical-align: top;\n",
       "    }\n",
       "\n",
       "    .dataframe thead th {\n",
       "        text-align: right;\n",
       "    }\n",
       "</style>\n",
       "<table border=\"1\" class=\"dataframe\">\n",
       "  <thead>\n",
       "    <tr style=\"text-align: right;\">\n",
       "      <th></th>\n",
       "      <th>AircraftAge</th>\n",
       "      <th>ArrDelay</th>\n",
       "    </tr>\n",
       "  </thead>\n",
       "  <tbody>\n",
       "    <tr>\n",
       "      <th>0</th>\n",
       "      <td>1</td>\n",
       "      <td>6.0</td>\n",
       "    </tr>\n",
       "    <tr>\n",
       "      <th>1</th>\n",
       "      <td>1</td>\n",
       "      <td>-5.0</td>\n",
       "    </tr>\n",
       "    <tr>\n",
       "      <th>2</th>\n",
       "      <td>1</td>\n",
       "      <td>-10.0</td>\n",
       "    </tr>\n",
       "    <tr>\n",
       "      <th>3</th>\n",
       "      <td>1</td>\n",
       "      <td>-2.0</td>\n",
       "    </tr>\n",
       "    <tr>\n",
       "      <th>4</th>\n",
       "      <td>1</td>\n",
       "      <td>-2.0</td>\n",
       "    </tr>\n",
       "    <tr>\n",
       "      <th>...</th>\n",
       "      <td>...</td>\n",
       "      <td>...</td>\n",
       "    </tr>\n",
       "    <tr>\n",
       "      <th>11927809</th>\n",
       "      <td>0</td>\n",
       "      <td>40.0</td>\n",
       "    </tr>\n",
       "    <tr>\n",
       "      <th>11927810</th>\n",
       "      <td>0</td>\n",
       "      <td>10.0</td>\n",
       "    </tr>\n",
       "    <tr>\n",
       "      <th>11927811</th>\n",
       "      <td>0</td>\n",
       "      <td>-3.0</td>\n",
       "    </tr>\n",
       "    <tr>\n",
       "      <th>11927812</th>\n",
       "      <td>0</td>\n",
       "      <td>-1.0</td>\n",
       "    </tr>\n",
       "    <tr>\n",
       "      <th>11927813</th>\n",
       "      <td>0</td>\n",
       "      <td>-37.0</td>\n",
       "    </tr>\n",
       "  </tbody>\n",
       "</table>\n",
       "<p>11927814 rows × 2 columns</p>\n",
       "</div>"
      ],
      "text/plain": [
       "          AircraftAge  ArrDelay\n",
       "0                   1       6.0\n",
       "1                   1      -5.0\n",
       "2                   1     -10.0\n",
       "3                   1      -2.0\n",
       "4                   1      -2.0\n",
       "...               ...       ...\n",
       "11927809            0      40.0\n",
       "11927810            0      10.0\n",
       "11927811            0      -3.0\n",
       "11927812            0      -1.0\n",
       "11927813            0     -37.0\n",
       "\n",
       "[11927814 rows x 2 columns]"
      ]
     },
     "execution_count": 19,
     "metadata": {},
     "output_type": "execute_result"
    }
   ],
   "source": [
    "# Selecting relevant data\n",
    "AircraftAge_Delays = AircraftAge_Delays[['AircraftAge', 'ArrDelay']]\n",
    "\n",
    "AircraftAge_Delays"
   ]
  },
  {
   "cell_type": "code",
   "execution_count": 20,
   "id": "5f8b64d4",
   "metadata": {},
   "outputs": [
    {
     "data": {
      "text/plain": [
       "(array([1.450600e+04, 2.572620e+05, 4.453960e+05, 8.008360e+05,\n",
       "        9.745270e+05, 1.197146e+06, 1.111967e+06, 9.353600e+05,\n",
       "        9.745850e+05, 8.922840e+05, 7.248530e+05, 6.455780e+05,\n",
       "        4.167470e+05, 3.245150e+05, 2.718130e+05, 2.096310e+05,\n",
       "        1.836970e+05, 2.383830e+05, 2.646390e+05, 2.128890e+05,\n",
       "        1.963800e+05, 1.842960e+05, 1.820260e+05, 1.522350e+05,\n",
       "        7.859900e+04, 2.581500e+04, 1.286000e+03, 0.000000e+00,\n",
       "        0.000000e+00, 0.000000e+00, 3.500000e+02, 2.296000e+03,\n",
       "        2.910000e+03, 3.042000e+03, 1.965000e+03]),\n",
       " array([-3.        , -2.02857143, -1.05714286, -0.08571429,  0.88571429,\n",
       "         1.85714286,  2.82857143,  3.8       ,  4.77142857,  5.74285714,\n",
       "         6.71428571,  7.68571429,  8.65714286,  9.62857143, 10.6       ,\n",
       "        11.57142857, 12.54285714, 13.51428571, 14.48571429, 15.45714286,\n",
       "        16.42857143, 17.4       , 18.37142857, 19.34285714, 20.31428571,\n",
       "        21.28571429, 22.25714286, 23.22857143, 24.2       , 25.17142857,\n",
       "        26.14285714, 27.11428571, 28.08571429, 29.05714286, 30.02857143,\n",
       "        31.        ]),\n",
       " <BarContainer object of 35 artists>)"
      ]
     },
     "execution_count": 20,
     "metadata": {},
     "output_type": "execute_result"
    },
    {
     "data": {
      "image/png": "[encoded data removed]",
      "text/plain": [
       "<Figure size 360x360 with 1 Axes>"
      ]
     },
     "metadata": {
      "needs_background": "light"
     },
     "output_type": "display_data"
    }
   ],
   "source": [
    "# ======== Visualising Data ===================\n",
    "# Distribution of Delays\n",
    "# Initialize layout\n",
    "fig, ax = plt.subplots(figsize = (5, 5))\n",
    "\n",
    "#plot\n",
    "ax.hist(AircraftAge_Delays['AircraftAge'], bins = 35, edgecolor = \"black\")"
   ]
  },
  {
   "cell_type": "markdown",
   "id": "742b9020",
   "metadata": {},
   "source": [
    "We used the `.hist()` function to create a histogram to view the distribution of AircraftAge.\n",
    "\n",
    "looking at the histogram, we can see that some planes have been classified as having negative age, this is impossible, but a possible reason that this happened is because the planes data frame contains planes from 2008 as well, therefore the tailnum of the planes with negative age could have been linked to newer planes. \n",
    "\n",
    "From the histogram, we can also see that after the age of 22, the number of planes still active drops off significantly.\n",
    "\n",
    "#### Cleaning the AircraftAge_Delays Table"
   ]
  },
  {
   "cell_type": "code",
   "execution_count": 21,
   "id": "07c0aff1",
   "metadata": {},
   "outputs": [],
   "source": [
    "# ======= Cleaning Data ============\n",
    "# Age cannot be negative so will be removing them as outliers, Planes above the age of 22 have significantly lesser flights, removed as noise\n",
    "AircraftAge_Delays = AircraftAge_Delays.query(\"AircraftAge >= 0 & AircraftAge <= 22\")"
   ]
  },
  {
   "cell_type": "markdown",
   "id": "b3adf56a",
   "metadata": {},
   "source": [
    "We cleaned the AircraftAge_Delays table by simply using the `.query()` function to filter out the outliers and noise.\n",
    "\n",
    "#### Visualising the Cleaned AircraftAge_Delay Table"
   ]
  },
  {
   "cell_type": "code",
   "execution_count": 22,
   "id": "7c2dfc8c",
   "metadata": {},
   "outputs": [
    {
     "data": {
      "text/plain": [
       "(array([ 800836.,  974527., 1197146., 1111967.,  935360.,  974585.,\n",
       "         892284.,  724853.,  645578.,  416747.,  324515.,  271813.,\n",
       "         209631.,  183697.,  238383.,  264639.,  212889.,  196380.,\n",
       "         184296.,  182026.,  152235.,  104414.]),\n",
       " array([ 0.,  1.,  2.,  3.,  4.,  5.,  6.,  7.,  8.,  9., 10., 11., 12.,\n",
       "        13., 14., 15., 16., 17., 18., 19., 20., 21., 22.]),\n",
       " <BarContainer object of 22 artists>)"
      ]
     },
     "execution_count": 22,
     "metadata": {},
     "output_type": "execute_result"
    },
    {
     "data": {
      "image/png": "[encoded data removed]",
      "text/plain": [
       "<Figure size 360x360 with 1 Axes>"
      ]
     },
     "metadata": {
      "needs_background": "light"
     },
     "output_type": "display_data"
    }
   ],
   "source": [
    "# ======== Visualising Data ===================\n",
    "# Distribution of Delays\n",
    "# Initialize layout\n",
    "fig, ax = plt.subplots(figsize = (5, 5))\n",
    "\n",
    "#plot\n",
    "ax.hist(AircraftAge_Delays['AircraftAge'], bins = 22, edgecolor = \"black\")"
   ]
  },
  {
   "cell_type": "markdown",
   "id": "9daed230",
   "metadata": {},
   "source": [
    "Looking at the “cleaned” AircraftAge, we can see that we successfully removed the outliers and noise from the AircraftAge_Delay table.\n",
    "\n",
    "We decided that conducting Pearson’s Correlation Analysis to identify the linear relationship of AircraftAge and the Average Arrival Delay will allow us to conclude that older planes suffer more delays.\n",
    "\n",
    "#### Person's Correlation Analysis\n",
    "\n",
    "The Correlation Analysis allows us to identify the linear relationship between 2 variables, if there is a positive correlation between the 2 variables it means that as one variable increases the other also increases, and if there is a negative correlation it means that as one variable increases the other decreases.\n",
    "\n",
    "Using this we can find other whether as age increase will average arrival delay increase or not.\n",
    "\n",
    "#### Preparing the table for Pearson’s Correlation"
   ]
  },
  {
   "cell_type": "code",
   "execution_count": 23,
   "id": "31263d6e",
   "metadata": {},
   "outputs": [
    {
     "data": {
      "text/html": [
       "<div>\n",
       "<style scoped>\n",
       "    .dataframe tbody tr th:only-of-type {\n",
       "        vertical-align: middle;\n",
       "    }\n",
       "\n",
       "    .dataframe tbody tr th {\n",
       "        vertical-align: top;\n",
       "    }\n",
       "\n",
       "    .dataframe thead tr th {\n",
       "        text-align: left;\n",
       "    }\n",
       "</style>\n",
       "<table border=\"1\" class=\"dataframe\">\n",
       "  <thead>\n",
       "    <tr>\n",
       "      <th></th>\n",
       "      <th>AircraftAge</th>\n",
       "      <th>AvgDelay</th>\n",
       "    </tr>\n",
       "    <tr>\n",
       "      <th></th>\n",
       "      <th></th>\n",
       "      <th></th>\n",
       "    </tr>\n",
       "  </thead>\n",
       "  <tbody>\n",
       "    <tr>\n",
       "      <th>0</th>\n",
       "      <td>0</td>\n",
       "      <td>9.348290</td>\n",
       "    </tr>\n",
       "    <tr>\n",
       "      <th>1</th>\n",
       "      <td>1</td>\n",
       "      <td>9.517678</td>\n",
       "    </tr>\n",
       "    <tr>\n",
       "      <th>2</th>\n",
       "      <td>2</td>\n",
       "      <td>10.188116</td>\n",
       "    </tr>\n",
       "    <tr>\n",
       "      <th>3</th>\n",
       "      <td>3</td>\n",
       "      <td>10.929739</td>\n",
       "    </tr>\n",
       "    <tr>\n",
       "      <th>4</th>\n",
       "      <td>4</td>\n",
       "      <td>10.009602</td>\n",
       "    </tr>\n",
       "    <tr>\n",
       "      <th>5</th>\n",
       "      <td>5</td>\n",
       "      <td>8.570046</td>\n",
       "    </tr>\n",
       "    <tr>\n",
       "      <th>6</th>\n",
       "      <td>6</td>\n",
       "      <td>8.650072</td>\n",
       "    </tr>\n",
       "    <tr>\n",
       "      <th>7</th>\n",
       "      <td>7</td>\n",
       "      <td>9.362050</td>\n",
       "    </tr>\n",
       "    <tr>\n",
       "      <th>8</th>\n",
       "      <td>8</td>\n",
       "      <td>9.556162</td>\n",
       "    </tr>\n",
       "    <tr>\n",
       "      <th>9</th>\n",
       "      <td>9</td>\n",
       "      <td>9.982719</td>\n",
       "    </tr>\n",
       "    <tr>\n",
       "      <th>10</th>\n",
       "      <td>10</td>\n",
       "      <td>8.362837</td>\n",
       "    </tr>\n",
       "    <tr>\n",
       "      <th>11</th>\n",
       "      <td>11</td>\n",
       "      <td>9.607881</td>\n",
       "    </tr>\n",
       "    <tr>\n",
       "      <th>12</th>\n",
       "      <td>12</td>\n",
       "      <td>11.066770</td>\n",
       "    </tr>\n",
       "    <tr>\n",
       "      <th>13</th>\n",
       "      <td>13</td>\n",
       "      <td>9.737111</td>\n",
       "    </tr>\n",
       "    <tr>\n",
       "      <th>14</th>\n",
       "      <td>14</td>\n",
       "      <td>9.206592</td>\n",
       "    </tr>\n",
       "    <tr>\n",
       "      <th>15</th>\n",
       "      <td>15</td>\n",
       "      <td>10.094347</td>\n",
       "    </tr>\n",
       "    <tr>\n",
       "      <th>16</th>\n",
       "      <td>16</td>\n",
       "      <td>10.381006</td>\n",
       "    </tr>\n",
       "    <tr>\n",
       "      <th>17</th>\n",
       "      <td>17</td>\n",
       "      <td>10.661905</td>\n",
       "    </tr>\n",
       "    <tr>\n",
       "      <th>18</th>\n",
       "      <td>18</td>\n",
       "      <td>10.508193</td>\n",
       "    </tr>\n",
       "    <tr>\n",
       "      <th>19</th>\n",
       "      <td>19</td>\n",
       "      <td>10.180557</td>\n",
       "    </tr>\n",
       "    <tr>\n",
       "      <th>20</th>\n",
       "      <td>20</td>\n",
       "      <td>11.333944</td>\n",
       "    </tr>\n",
       "    <tr>\n",
       "      <th>21</th>\n",
       "      <td>21</td>\n",
       "      <td>10.977455</td>\n",
       "    </tr>\n",
       "    <tr>\n",
       "      <th>22</th>\n",
       "      <td>22</td>\n",
       "      <td>9.959055</td>\n",
       "    </tr>\n",
       "  </tbody>\n",
       "</table>\n",
       "</div>"
      ],
      "text/plain": [
       "   AircraftAge   AvgDelay\n",
       "                         \n",
       "0            0   9.348290\n",
       "1            1   9.517678\n",
       "2            2  10.188116\n",
       "3            3  10.929739\n",
       "4            4  10.009602\n",
       "5            5   8.570046\n",
       "6            6   8.650072\n",
       "7            7   9.362050\n",
       "8            8   9.556162\n",
       "9            9   9.982719\n",
       "10          10   8.362837\n",
       "11          11   9.607881\n",
       "12          12  11.066770\n",
       "13          13   9.737111\n",
       "14          14   9.206592\n",
       "15          15  10.094347\n",
       "16          16  10.381006\n",
       "17          17  10.661905\n",
       "18          18  10.508193\n",
       "19          19  10.180557\n",
       "20          20  11.333944\n",
       "21          21  10.977455\n",
       "22          22   9.959055"
      ]
     },
     "execution_count": 23,
     "metadata": {},
     "output_type": "execute_result"
    }
   ],
   "source": [
    "# ========== Finding the Probability of Delay ==============\n",
    "# Grouping the data by AircraftAge\n",
    "AircraftAge_Delays = AircraftAge_Delays.groupby(['AircraftAge'], as_index = False).agg({'ArrDelay': ['mean']})\n",
    "\n",
    "# Calculating the ProbabilityofDelay\n",
    "AircraftAge_Delays['AvgDelay'] = AircraftAge_Delays[('ArrDelay', 'mean')]\n",
    "\n",
    "AircraftAge_Delays = AircraftAge_Delays[['AircraftAge', 'AvgDelay']]\n",
    "\n",
    "AircraftAge_Delays"
   ]
  },
  {
   "cell_type": "markdown",
   "id": "735209cc",
   "metadata": {},
   "source": [
    "To prepare the table for the correlation analysis, we first have to group the table using the `.groupby()` function to group the AircraftAge, then using `.agg()` and specifying `{'ArrDelay': ['mean']}` to derive the average arrival delay (AvgDelay).\n",
    "\n",
    "#### Verifying Test Assumptions\n",
    "Before conducting person’s correlation, there are some test assumptions we have to check.\n",
    "\n",
    "1. Is there a Linear Relationship?\n",
    "To visualize this we will be creating a regression plot using `.regplot()`"
   ]
  },
  {
   "cell_type": "code",
   "execution_count": 24,
   "id": "e7cd3fc0",
   "metadata": {},
   "outputs": [
    {
     "data": {
      "image/png": "[encoded data removed]",
      "text/plain": [
       "<Figure size 432x288 with 1 Axes>"
      ]
     },
     "metadata": {
      "needs_background": "light"
     },
     "output_type": "display_data"
    }
   ],
   "source": [
    "# ========== Visualizing Data ======================\n",
    "sns.regplot(x = AircraftAge_Delays[\"AircraftAge\"], y = AircraftAge_Delays[\"AvgDelay\"], line_kws={\"color\":\"r\",\"alpha\":0.7,\"lw\":5})\n",
    "plt.show()"
   ]
  },
  {
   "cell_type": "markdown",
   "id": "67fb9f1e",
   "metadata": {},
   "source": [
    "Looking at the plot above, we can see that there seems to be a linear relationship between the 2 variables.\n",
    "\n",
    "2. Does the 2 variables follow a normal distribution?"
   ]
  },
  {
   "cell_type": "markdown",
   "id": "b77e45af",
   "metadata": {},
   "source": [
    "We will be conducting the Shapiro-Wilk normality test using `stats.shapiro()` to test normality of the 2 variables.\n",
    "\n",
    "Normality Test Hypotheses:\n",
    "\n",
    "$H_0$ : The data are normally distributed\n",
    "\n",
    "$H_1$ : The data are not normally distributed\n",
    "\n",
    "Setting a significance level of 5%, we will reject the null hypothesis if the p-value of the test is less than 0.05"
   ]
  },
  {
   "cell_type": "code",
   "execution_count": 25,
   "id": "629fb9bb",
   "metadata": {},
   "outputs": [
    {
     "data": {
      "text/plain": [
       "ShapiroResult(statistic=0.9591798186302185, pvalue=0.4470047652721405)"
      ]
     },
     "execution_count": 25,
     "metadata": {},
     "output_type": "execute_result"
    }
   ],
   "source": [
    "# Normality Test for Aircraft Age\n",
    "stats.shapiro(AircraftAge_Delays[\"AircraftAge\"])"
   ]
  },
  {
   "cell_type": "code",
   "execution_count": 26,
   "id": "6f613f8d",
   "metadata": {},
   "outputs": [
    {
     "data": {
      "text/plain": [
       "ShapiroResult(statistic=0.9761690497398376, pvalue=0.8317636847496033)"
      ]
     },
     "execution_count": 26,
     "metadata": {},
     "output_type": "execute_result"
    }
   ],
   "source": [
    "# Normality Test for Probability of Delay\n",
    "stats.shapiro(AircraftAge_Delays[\"AvgDelay\"])"
   ]
  },
  {
   "cell_type": "markdown",
   "id": "833a5a12",
   "metadata": {},
   "source": [
    "Both p-values are greater than the significance level 0.05 implying that there is insufficient evidence at 5% significance level to conclude that the distribution of the data are significantly different from normal distribution. In other words, we can assume normality.\n",
    "\n",
    "After verifying the test assumptions, we can proceed with increased confidence in the correlation test.\n",
    "\n",
    "#### Pearson's Correlation Formula:\n",
    "\n",
    "$$ r = \\frac{\\sum(x-m_{x})(y-m_y)}{(\\sqrt{\\sum(x-m_{x})^2\\sum(y-m_y)^2}} $$\n",
    "\n",
    "$m_{x}$ and $m_{y}$ are the means of x and y variables\n",
    "\n",
    "The p-value (Significance Level) of the correlation is determined by looking at the corresponding p-value using the t-distribution table for $df = n - 2$\n",
    "\n",
    "#### Correlation test hypotheses:\n",
    "\n",
    "$H_0$ : AircraftAge and AvgDelay are not correlated\n",
    "\n",
    "$H_1$ : AircraftAge and AvgDelay are correlated\n",
    "\n",
    "Setting a significance level of 5%, we will reject the null hypothesis if the p-value of the test is less than 0.05\n",
    "\n",
    "#### Results of Pearson's Correlation\n",
    "\n",
    "Instead of calculating by hand, we can use the `scipy.stats.pearsonr()` function to tell python to conduct a Pearson's correlation analysis on the 2 variables."
   ]
  },
  {
   "cell_type": "code",
   "execution_count": 27,
   "id": "846fb33d",
   "metadata": {},
   "outputs": [],
   "source": [
    "# Correlation Test\n",
    "cor = scipy.stats.pearsonr(AircraftAge_Delays[\"AircraftAge\"], AircraftAge_Delays[\"AvgDelay\"])"
   ]
  },
  {
   "cell_type": "code",
   "execution_count": 28,
   "id": "bb906265",
   "metadata": {},
   "outputs": [
    {
     "name": "stdout",
     "output_type": "stream",
     "text": [
      "Corelation Coefficient is: 0.4543758982056738  and p value is: 0.029396908765657342\n"
     ]
    }
   ],
   "source": [
    "print(\"Corelation Coefficient is:\", cor[0], \" and p value is:\", cor[1])"
   ]
  },
  {
   "cell_type": "markdown",
   "id": "b0223d91",
   "metadata": {},
   "source": [
    "Since, p-value = 0.029 < 0.05, therefore, we can reject null hypothesis at 5% significance level, and conclude that age of the aircraft and average arrival delays is significantly correlated. With a correlation coeﬀicient of 0.45 shows that Age of Aircraft and the Probability of Delays have a medium positive linear relationship.\n",
    "\n",
    "#### Result of Analysis\n",
    "Since there is a medium positive correlation between AircraftAge and the AvgDelay, it is not unreasonable to assume that as Aircraft Age increases the Average Arrival Delay also increases, therefore, older planes do suffer more delays.\n",
    "\n",
    "### Question 3\n",
    "\n",
    "#### How does the number of people flying between different locations change over time?\n",
    "\n",
    "To answer this question we will be analyzing the ontime table to visualize completed flights in the US over time.\n",
    "\n",
    "#### Flights Table"
   ]
  },
  {
   "cell_type": "code",
   "execution_count": 29,
   "id": "270ba093",
   "metadata": {},
   "outputs": [
    {
     "data": {
      "text/html": [
       "<div>\n",
       "<style scoped>\n",
       "    .dataframe tbody tr th:only-of-type {\n",
       "        vertical-align: middle;\n",
       "    }\n",
       "\n",
       "    .dataframe tbody tr th {\n",
       "        vertical-align: top;\n",
       "    }\n",
       "\n",
       "    .dataframe thead th {\n",
       "        text-align: right;\n",
       "    }\n",
       "</style>\n",
       "<table border=\"1\" class=\"dataframe\">\n",
       "  <thead>\n",
       "    <tr style=\"text-align: right;\">\n",
       "      <th></th>\n",
       "      <th>Year</th>\n",
       "      <th>Month</th>\n",
       "      <th>size</th>\n",
       "    </tr>\n",
       "  </thead>\n",
       "  <tbody>\n",
       "    <tr>\n",
       "      <th>0</th>\n",
       "      <td>2006</td>\n",
       "      <td>1</td>\n",
       "      <td>570130</td>\n",
       "    </tr>\n",
       "    <tr>\n",
       "      <th>1</th>\n",
       "      <td>2006</td>\n",
       "      <td>2</td>\n",
       "      <td>518645</td>\n",
       "    </tr>\n",
       "    <tr>\n",
       "      <th>2</th>\n",
       "      <td>2006</td>\n",
       "      <td>3</td>\n",
       "      <td>596578</td>\n",
       "    </tr>\n",
       "    <tr>\n",
       "      <th>3</th>\n",
       "      <td>2006</td>\n",
       "      <td>4</td>\n",
       "      <td>577718</td>\n",
       "    </tr>\n",
       "    <tr>\n",
       "      <th>4</th>\n",
       "      <td>2006</td>\n",
       "      <td>5</td>\n",
       "      <td>594626</td>\n",
       "    </tr>\n",
       "    <tr>\n",
       "      <th>5</th>\n",
       "      <td>2006</td>\n",
       "      <td>6</td>\n",
       "      <td>586418</td>\n",
       "    </tr>\n",
       "    <tr>\n",
       "      <th>6</th>\n",
       "      <td>2006</td>\n",
       "      <td>7</td>\n",
       "      <td>608631</td>\n",
       "    </tr>\n",
       "    <tr>\n",
       "      <th>7</th>\n",
       "      <td>2006</td>\n",
       "      <td>8</td>\n",
       "      <td>617379</td>\n",
       "    </tr>\n",
       "    <tr>\n",
       "      <th>8</th>\n",
       "      <td>2006</td>\n",
       "      <td>9</td>\n",
       "      <td>573750</td>\n",
       "    </tr>\n",
       "    <tr>\n",
       "      <th>9</th>\n",
       "      <td>2006</td>\n",
       "      <td>10</td>\n",
       "      <td>599086</td>\n",
       "    </tr>\n",
       "    <tr>\n",
       "      <th>10</th>\n",
       "      <td>2006</td>\n",
       "      <td>11</td>\n",
       "      <td>575570</td>\n",
       "    </tr>\n",
       "    <tr>\n",
       "      <th>11</th>\n",
       "      <td>2006</td>\n",
       "      <td>12</td>\n",
       "      <td>585271</td>\n",
       "    </tr>\n",
       "    <tr>\n",
       "      <th>12</th>\n",
       "      <td>2007</td>\n",
       "      <td>1</td>\n",
       "      <td>604582</td>\n",
       "    </tr>\n",
       "    <tr>\n",
       "      <th>13</th>\n",
       "      <td>2007</td>\n",
       "      <td>2</td>\n",
       "      <td>538878</td>\n",
       "    </tr>\n",
       "    <tr>\n",
       "      <th>14</th>\n",
       "      <td>2007</td>\n",
       "      <td>3</td>\n",
       "      <td>621057</td>\n",
       "    </tr>\n",
       "    <tr>\n",
       "      <th>15</th>\n",
       "      <td>2007</td>\n",
       "      <td>4</td>\n",
       "      <td>602317</td>\n",
       "    </tr>\n",
       "    <tr>\n",
       "      <th>16</th>\n",
       "      <td>2007</td>\n",
       "      <td>5</td>\n",
       "      <td>623326</td>\n",
       "    </tr>\n",
       "    <tr>\n",
       "      <th>17</th>\n",
       "      <td>2007</td>\n",
       "      <td>6</td>\n",
       "      <td>609838</td>\n",
       "    </tr>\n",
       "    <tr>\n",
       "      <th>18</th>\n",
       "      <td>2007</td>\n",
       "      <td>7</td>\n",
       "      <td>632904</td>\n",
       "    </tr>\n",
       "    <tr>\n",
       "      <th>19</th>\n",
       "      <td>2007</td>\n",
       "      <td>8</td>\n",
       "      <td>638883</td>\n",
       "    </tr>\n",
       "    <tr>\n",
       "      <th>20</th>\n",
       "      <td>2007</td>\n",
       "      <td>9</td>\n",
       "      <td>592718</td>\n",
       "    </tr>\n",
       "    <tr>\n",
       "      <th>21</th>\n",
       "      <td>2007</td>\n",
       "      <td>10</td>\n",
       "      <td>621665</td>\n",
       "    </tr>\n",
       "    <tr>\n",
       "      <th>22</th>\n",
       "      <td>2007</td>\n",
       "      <td>11</td>\n",
       "      <td>597989</td>\n",
       "    </tr>\n",
       "    <tr>\n",
       "      <th>23</th>\n",
       "      <td>2007</td>\n",
       "      <td>12</td>\n",
       "      <td>591131</td>\n",
       "    </tr>\n",
       "  </tbody>\n",
       "</table>\n",
       "</div>"
      ],
      "text/plain": [
       "    Year  Month    size\n",
       "0   2006      1  570130\n",
       "1   2006      2  518645\n",
       "2   2006      3  596578\n",
       "3   2006      4  577718\n",
       "4   2006      5  594626\n",
       "5   2006      6  586418\n",
       "6   2006      7  608631\n",
       "7   2006      8  617379\n",
       "8   2006      9  573750\n",
       "9   2006     10  599086\n",
       "10  2006     11  575570\n",
       "11  2006     12  585271\n",
       "12  2007      1  604582\n",
       "13  2007      2  538878\n",
       "14  2007      3  621057\n",
       "15  2007      4  602317\n",
       "16  2007      5  623326\n",
       "17  2007      6  609838\n",
       "18  2007      7  632904\n",
       "19  2007      8  638883\n",
       "20  2007      9  592718\n",
       "21  2007     10  621665\n",
       "22  2007     11  597989\n",
       "23  2007     12  591131"
      ]
     },
     "execution_count": 29,
     "metadata": {},
     "output_type": "execute_result"
    }
   ],
   "source": [
    "# Creating the Flights table by analysing the ontime table\n",
    "Flights = ontime[['Year', 'Month']]\n",
    "\n",
    "# Grouping the data by Year and Month\n",
    "Flights = Flights.groupby(['Year', 'Month'], as_index = False).size()\n",
    "\n",
    "# Turn long format into a wide format\n",
    "Flights_wide = Flights.pivot_table(index = 'Year', columns = 'Month', values = 'size')\n",
    "\n",
    "Flights"
   ]
  },
  {
   "cell_type": "markdown",
   "id": "f887b8fc",
   "metadata": {},
   "source": [
    "We created the Flights table from the Year and Month column in the ontime data frame, we then grouped the Flights table by Year and Month using the `.groupby()` function, and using `.size()` to derive the total flights in for each unique combination of Year and Month.\n",
    "\n",
    "#### Visualizing the Flights Table\n",
    "We believe visualizing the data as a heat map will allow us to see the difference in number of flights across the months and Year much more easier as compared to looking at numbers in its table form."
   ]
  },
  {
   "cell_type": "code",
   "execution_count": 30,
   "id": "f2cb41e9",
   "metadata": {},
   "outputs": [
    {
     "data": {
      "text/plain": [
       "<AxesSubplot:xlabel='Month', ylabel='Year'>"
      ]
     },
     "execution_count": 30,
     "metadata": {},
     "output_type": "execute_result"
    },
    {
     "data": {
      "image/png": "[encoded data removed]",
      "text/plain": [
       "<Figure size 432x288 with 2 Axes>"
      ]
     },
     "metadata": {
      "needs_background": "light"
     },
     "output_type": "display_data"
    }
   ],
   "source": [
    "# ========== Visualizing Data ======================\n",
    "sns.heatmap(Flights_wide, cmap = \"rocket_r\")"
   ]
  },
  {
   "cell_type": "markdown",
   "id": "41237db1",
   "metadata": {},
   "source": [
    "We created the heat map using `sns.heatmap()`, from the heat map, we can see that year on year 2007 is a shade darker as compared to 2006, we can also see patterns such as February having the least flights July-August having the most flights for both years. Therefore, we can say that flight patterns does not change much over the years just that year on year 2007 has more air traffic than 2006.\n",
    "\n",
    "### Question 4\n",
    "\n",
    "#### Can you detect cascading failures as delays in one airports create delays in others?\n",
    "\n",
    "As stated in the question, cascaded failures means delays in one airport creating delays in others. Therefore, to answer this question we will have to identify the presence of cascaded delays, which we have defined as delays in the origin airport causing delay propagation to the destination airport.\n",
    "\n",
    "Firstly, to answer this question we will have to identify Delay propagation(Propagated_Delay), we will use the data available in the ontime data frame for this analysis."
   ]
  },
  {
   "cell_type": "code",
   "execution_count": 31,
   "id": "fe6d149c",
   "metadata": {},
   "outputs": [
    {
     "data": {
      "text/html": [
       "<div>\n",
       "<style scoped>\n",
       "    .dataframe tbody tr th:only-of-type {\n",
       "        vertical-align: middle;\n",
       "    }\n",
       "\n",
       "    .dataframe tbody tr th {\n",
       "        vertical-align: top;\n",
       "    }\n",
       "\n",
       "    .dataframe thead th {\n",
       "        text-align: right;\n",
       "    }\n",
       "</style>\n",
       "<table border=\"1\" class=\"dataframe\">\n",
       "  <thead>\n",
       "    <tr style=\"text-align: right;\">\n",
       "      <th></th>\n",
       "      <th>date</th>\n",
       "      <th>FlightNum</th>\n",
       "      <th>TailNum</th>\n",
       "      <th>Origin</th>\n",
       "      <th>CRSDepTime</th>\n",
       "      <th>DepTime</th>\n",
       "      <th>DepDelay</th>\n",
       "      <th>Dest</th>\n",
       "      <th>CRSArrTime</th>\n",
       "      <th>ArrTime</th>\n",
       "      <th>ArrDelay</th>\n",
       "      <th>CarrierDelay</th>\n",
       "      <th>WeatherDelay</th>\n",
       "      <th>NASDelay</th>\n",
       "      <th>SecurityDelay</th>\n",
       "      <th>LateAircraftDelay</th>\n",
       "      <th>PropagatedDelay</th>\n",
       "    </tr>\n",
       "  </thead>\n",
       "  <tbody>\n",
       "    <tr>\n",
       "      <th>0</th>\n",
       "      <td>2006-01-11</td>\n",
       "      <td>343</td>\n",
       "      <td>N657AW</td>\n",
       "      <td>ATL</td>\n",
       "      <td>745</td>\n",
       "      <td>743.0</td>\n",
       "      <td>-2.0</td>\n",
       "      <td>PHX</td>\n",
       "      <td>1018</td>\n",
       "      <td>1024.0</td>\n",
       "      <td>6.0</td>\n",
       "      <td>0</td>\n",
       "      <td>0</td>\n",
       "      <td>0</td>\n",
       "      <td>0</td>\n",
       "      <td>0</td>\n",
       "      <td>Not Propagated</td>\n",
       "    </tr>\n",
       "    <tr>\n",
       "      <th>1</th>\n",
       "      <td>2006-01-11</td>\n",
       "      <td>613</td>\n",
       "      <td>N834AW</td>\n",
       "      <td>ATL</td>\n",
       "      <td>1053</td>\n",
       "      <td>1053.0</td>\n",
       "      <td>0.0</td>\n",
       "      <td>PHX</td>\n",
       "      <td>1318</td>\n",
       "      <td>1313.0</td>\n",
       "      <td>-5.0</td>\n",
       "      <td>0</td>\n",
       "      <td>0</td>\n",
       "      <td>0</td>\n",
       "      <td>0</td>\n",
       "      <td>0</td>\n",
       "      <td>Not Propagated</td>\n",
       "    </tr>\n",
       "    <tr>\n",
       "      <th>2</th>\n",
       "      <td>2006-01-11</td>\n",
       "      <td>617</td>\n",
       "      <td>N605AW</td>\n",
       "      <td>ATL</td>\n",
       "      <td>1915</td>\n",
       "      <td>1915.0</td>\n",
       "      <td>0.0</td>\n",
       "      <td>PHX</td>\n",
       "      <td>2133</td>\n",
       "      <td>2110.0</td>\n",
       "      <td>-23.0</td>\n",
       "      <td>0</td>\n",
       "      <td>0</td>\n",
       "      <td>0</td>\n",
       "      <td>0</td>\n",
       "      <td>0</td>\n",
       "      <td>Not Propagated</td>\n",
       "    </tr>\n",
       "    <tr>\n",
       "      <th>3</th>\n",
       "      <td>2006-01-11</td>\n",
       "      <td>300</td>\n",
       "      <td>N312AW</td>\n",
       "      <td>AUS</td>\n",
       "      <td>1755</td>\n",
       "      <td>1753.0</td>\n",
       "      <td>-2.0</td>\n",
       "      <td>PHX</td>\n",
       "      <td>1933</td>\n",
       "      <td>1925.0</td>\n",
       "      <td>-8.0</td>\n",
       "      <td>0</td>\n",
       "      <td>0</td>\n",
       "      <td>0</td>\n",
       "      <td>0</td>\n",
       "      <td>0</td>\n",
       "      <td>Not Propagated</td>\n",
       "    </tr>\n",
       "    <tr>\n",
       "      <th>4</th>\n",
       "      <td>2006-01-11</td>\n",
       "      <td>765</td>\n",
       "      <td>N309AW</td>\n",
       "      <td>AUS</td>\n",
       "      <td>832</td>\n",
       "      <td>824.0</td>\n",
       "      <td>-8.0</td>\n",
       "      <td>PHX</td>\n",
       "      <td>1015</td>\n",
       "      <td>1015.0</td>\n",
       "      <td>0.0</td>\n",
       "      <td>0</td>\n",
       "      <td>0</td>\n",
       "      <td>0</td>\n",
       "      <td>0</td>\n",
       "      <td>0</td>\n",
       "      <td>Not Propagated</td>\n",
       "    </tr>\n",
       "    <tr>\n",
       "      <th>...</th>\n",
       "      <td>...</td>\n",
       "      <td>...</td>\n",
       "      <td>...</td>\n",
       "      <td>...</td>\n",
       "      <td>...</td>\n",
       "      <td>...</td>\n",
       "      <td>...</td>\n",
       "      <td>...</td>\n",
       "      <td>...</td>\n",
       "      <td>...</td>\n",
       "      <td>...</td>\n",
       "      <td>...</td>\n",
       "      <td>...</td>\n",
       "      <td>...</td>\n",
       "      <td>...</td>\n",
       "      <td>...</td>\n",
       "      <td>...</td>\n",
       "    </tr>\n",
       "    <tr>\n",
       "      <th>7453210</th>\n",
       "      <td>2007-12-15</td>\n",
       "      <td>58</td>\n",
       "      <td>N670DN</td>\n",
       "      <td>MCO</td>\n",
       "      <td>1605</td>\n",
       "      <td>1558.0</td>\n",
       "      <td>-7.0</td>\n",
       "      <td>ATL</td>\n",
       "      <td>1736</td>\n",
       "      <td>1749.0</td>\n",
       "      <td>13.0</td>\n",
       "      <td>0</td>\n",
       "      <td>0</td>\n",
       "      <td>0</td>\n",
       "      <td>0</td>\n",
       "      <td>0</td>\n",
       "      <td>Not Propagated</td>\n",
       "    </tr>\n",
       "    <tr>\n",
       "      <th>7453211</th>\n",
       "      <td>2007-12-15</td>\n",
       "      <td>59</td>\n",
       "      <td>N829MH</td>\n",
       "      <td>ATL</td>\n",
       "      <td>1851</td>\n",
       "      <td>1902.0</td>\n",
       "      <td>11.0</td>\n",
       "      <td>SLC</td>\n",
       "      <td>2105</td>\n",
       "      <td>2110.0</td>\n",
       "      <td>5.0</td>\n",
       "      <td>0</td>\n",
       "      <td>0</td>\n",
       "      <td>0</td>\n",
       "      <td>0</td>\n",
       "      <td>0</td>\n",
       "      <td>Propagated</td>\n",
       "    </tr>\n",
       "    <tr>\n",
       "      <th>7453212</th>\n",
       "      <td>2007-12-15</td>\n",
       "      <td>61</td>\n",
       "      <td>N623DL</td>\n",
       "      <td>LAX</td>\n",
       "      <td>1025</td>\n",
       "      <td>1024.0</td>\n",
       "      <td>-1.0</td>\n",
       "      <td>ATL</td>\n",
       "      <td>1735</td>\n",
       "      <td>1750.0</td>\n",
       "      <td>15.0</td>\n",
       "      <td>0</td>\n",
       "      <td>0</td>\n",
       "      <td>15</td>\n",
       "      <td>0</td>\n",
       "      <td>0</td>\n",
       "      <td>Not Propagated</td>\n",
       "    </tr>\n",
       "    <tr>\n",
       "      <th>7453213</th>\n",
       "      <td>2007-12-15</td>\n",
       "      <td>62</td>\n",
       "      <td>N970DL</td>\n",
       "      <td>DFW</td>\n",
       "      <td>1315</td>\n",
       "      <td>1353.0</td>\n",
       "      <td>38.0</td>\n",
       "      <td>ATL</td>\n",
       "      <td>1622</td>\n",
       "      <td>1658.0</td>\n",
       "      <td>36.0</td>\n",
       "      <td>0</td>\n",
       "      <td>0</td>\n",
       "      <td>0</td>\n",
       "      <td>0</td>\n",
       "      <td>36</td>\n",
       "      <td>Propagated</td>\n",
       "    </tr>\n",
       "    <tr>\n",
       "      <th>7453214</th>\n",
       "      <td>2007-12-15</td>\n",
       "      <td>63</td>\n",
       "      <td>N628DL</td>\n",
       "      <td>ATL</td>\n",
       "      <td>1800</td>\n",
       "      <td>1824.0</td>\n",
       "      <td>24.0</td>\n",
       "      <td>MCO</td>\n",
       "      <td>1928</td>\n",
       "      <td>2001.0</td>\n",
       "      <td>33.0</td>\n",
       "      <td>24</td>\n",
       "      <td>0</td>\n",
       "      <td>9</td>\n",
       "      <td>0</td>\n",
       "      <td>0</td>\n",
       "      <td>Propagated</td>\n",
       "    </tr>\n",
       "  </tbody>\n",
       "</table>\n",
       "<p>14279090 rows × 17 columns</p>\n",
       "</div>"
      ],
      "text/plain": [
       "              date  FlightNum TailNum Origin  CRSDepTime  DepTime  DepDelay  \\\n",
       "0       2006-01-11        343  N657AW    ATL         745    743.0      -2.0   \n",
       "1       2006-01-11        613  N834AW    ATL        1053   1053.0       0.0   \n",
       "2       2006-01-11        617  N605AW    ATL        1915   1915.0       0.0   \n",
       "3       2006-01-11        300  N312AW    AUS        1755   1753.0      -2.0   \n",
       "4       2006-01-11        765  N309AW    AUS         832    824.0      -8.0   \n",
       "...            ...        ...     ...    ...         ...      ...       ...   \n",
       "7453210 2007-12-15         58  N670DN    MCO        1605   1558.0      -7.0   \n",
       "7453211 2007-12-15         59  N829MH    ATL        1851   1902.0      11.0   \n",
       "7453212 2007-12-15         61  N623DL    LAX        1025   1024.0      -1.0   \n",
       "7453213 2007-12-15         62  N970DL    DFW        1315   1353.0      38.0   \n",
       "7453214 2007-12-15         63  N628DL    ATL        1800   1824.0      24.0   \n",
       "\n",
       "        Dest  CRSArrTime  ArrTime  ArrDelay  CarrierDelay  WeatherDelay  \\\n",
       "0        PHX        1018   1024.0       6.0             0             0   \n",
       "1        PHX        1318   1313.0      -5.0             0             0   \n",
       "2        PHX        2133   2110.0     -23.0             0             0   \n",
       "3        PHX        1933   1925.0      -8.0             0             0   \n",
       "4        PHX        1015   1015.0       0.0             0             0   \n",
       "...      ...         ...      ...       ...           ...           ...   \n",
       "7453210  ATL        1736   1749.0      13.0             0             0   \n",
       "7453211  SLC        2105   2110.0       5.0             0             0   \n",
       "7453212  ATL        1735   1750.0      15.0             0             0   \n",
       "7453213  ATL        1622   1658.0      36.0             0             0   \n",
       "7453214  MCO        1928   2001.0      33.0            24             0   \n",
       "\n",
       "         NASDelay  SecurityDelay  LateAircraftDelay PropagatedDelay  \n",
       "0               0              0                  0  Not Propagated  \n",
       "1               0              0                  0  Not Propagated  \n",
       "2               0              0                  0  Not Propagated  \n",
       "3               0              0                  0  Not Propagated  \n",
       "4               0              0                  0  Not Propagated  \n",
       "...           ...            ...                ...             ...  \n",
       "7453210         0              0                  0  Not Propagated  \n",
       "7453211         0              0                  0      Propagated  \n",
       "7453212        15              0                  0  Not Propagated  \n",
       "7453213         0              0                 36      Propagated  \n",
       "7453214         9              0                  0      Propagated  \n",
       "\n",
       "[14279090 rows x 17 columns]"
      ]
     },
     "execution_count": 31,
     "metadata": {},
     "output_type": "execute_result"
    }
   ],
   "source": [
    "# ===== Forming the Propa_Delay table for analysis ======\n",
    "# Propagated delays is when DepDelay in one airport causes ArrDelay at another\n",
    "Cas_Delay = ontime.copy()\n",
    "\n",
    "# Finding out which flights has Propagated Delays\n",
    "def Propadelay(DepDelay, ArrDelay):\n",
    "    if DepDelay > 0 and ArrDelay > 0:\n",
    "        return 'Propagated'\n",
    "    else:\n",
    "        return 'Not Propagated'\n",
    "        \n",
    "PropaDelay_list = []\n",
    "\n",
    "for DepDelay, ArrDelay in zip(Cas_Delay.DepDelay, Cas_Delay.ArrDelay):\n",
    "    PropaDelay = Propadelay(DepDelay, ArrDelay)\n",
    "    PropaDelay_list.append(PropaDelay)\n",
    "    \n",
    "Cas_Delay['PropagatedDelay'] = PropaDelay_list\n",
    "\n",
    "Cas_Delay = Cas_Delay[['date', 'FlightNum', 'TailNum', 'Origin', 'CRSDepTime', 'DepTime', 'DepDelay', 'Dest', 'CRSArrTime', 'ArrTime', 'ArrDelay', 'CarrierDelay', 'WeatherDelay', 'NASDelay', 'SecurityDelay', 'LateAircraftDelay','PropagatedDelay']]\n",
    "\n",
    "Cas_Delay"
   ]
  },
  {
   "cell_type": "markdown",
   "id": "fc6dadd9",
   "metadata": {},
   "source": [
    "The method `.copy()` is used here so that any changes made in new DataFrame don't get reflected in the original one.\n",
    "\n",
    "Propagated Delays is detected by using the function `Propadelay(DepDelay, ArrDelay)` which uses a `if-else` statement that creates the categorical variable ‘Propagated’ when there is Departure Delay and Arrival Delay occurring on the same flight, and ‘Not Propagated’ when it does not occur. We then use the function inconjuction with a `for-loop` to loop through the entire table, to return a list that will be passed on to the PropagatedDelay column in the Cas_Delay table.\n",
    "\n",
    "Now that we identified which flights has delay propagation, we will have to find out the relationship between delays in the origin airports and the propagation of delays to conclude whether delays in one airport causes delays in the next airport.\n",
    "\n",
    "To identify the relationship between the delay attributes and delay propagation, we will conduct a chi-squared test for independence.\n",
    "\n",
    "#### Chi-Square Test for independence\n",
    "\n",
    "The chi-square test for independence tests for the relationship of the variables\n",
    "\n",
    "#### Preparing the data for the chi-sqaure test\n",
    "\n",
    "Chi-square test of independence requires categorical variables, we have already categorized the delay propagation, therefore, we will have to categorize the delay variables of the origin airport next."
   ]
  },
  {
   "cell_type": "code",
   "execution_count": 32,
   "id": "36724030",
   "metadata": {},
   "outputs": [],
   "source": [
    "# Identifying the delay variables\n",
    "def DelayVariable(CarrierDelay, WeatherDelay, NASDelay, SecurityDelay, LateAircraftDelay):\n",
    "    if CarrierDelay > 0 or WeatherDelay > 0 or NASDelay > 0 or SecurityDelay > 0 or LateAircraftDelay > 0:\n",
    "        return 'Delayed'\n",
    "    else:\n",
    "        return 'Not Delayed'\n",
    "        \n",
    "Delay_Variable_list = []\n",
    "\n",
    "for CarrierDelay, WeatherDelay, NASDelay, SecurityDelay, LateAircraftDelay in zip(Cas_Delay.CarrierDelay, Cas_Delay.WeatherDelay, Cas_Delay.NASDelay, Cas_Delay.SecurityDelay, Cas_Delay.LateAircraftDelay):\n",
    "    delayvariable = DelayVariable(CarrierDelay, WeatherDelay, NASDelay, SecurityDelay, LateAircraftDelay)\n",
    "    Delay_Variable_list.append(delayvariable)\n",
    "    \n",
    "Cas_Delay['Delay_Variable'] = Delay_Variable_list"
   ]
  },
  {
   "cell_type": "markdown",
   "id": "e598a10f",
   "metadata": {},
   "source": [
    "The Delay_Variable column is derived by defining a function named `DelayVariable()` that returns a \"Delayed\" variable when either CarrierDelay > 0 or WeatherDelay > 0 or NASDelay > 0 or SecurityDelay > 0 or LateAircraftDelay > 0."
   ]
  },
  {
   "cell_type": "code",
   "execution_count": 33,
   "id": "cf1dc390",
   "metadata": {},
   "outputs": [
    {
     "data": {
      "text/html": [
       "<div>\n",
       "<style scoped>\n",
       "    .dataframe tbody tr th:only-of-type {\n",
       "        vertical-align: middle;\n",
       "    }\n",
       "\n",
       "    .dataframe tbody tr th {\n",
       "        vertical-align: top;\n",
       "    }\n",
       "\n",
       "    .dataframe thead th {\n",
       "        text-align: right;\n",
       "    }\n",
       "</style>\n",
       "<table border=\"1\" class=\"dataframe\">\n",
       "  <thead>\n",
       "    <tr style=\"text-align: right;\">\n",
       "      <th>PropagatedDelay</th>\n",
       "      <th>Not Propagated</th>\n",
       "      <th>Propagated</th>\n",
       "      <th>Total</th>\n",
       "    </tr>\n",
       "    <tr>\n",
       "      <th>Delay_Variable</th>\n",
       "      <th></th>\n",
       "      <th></th>\n",
       "      <th></th>\n",
       "    </tr>\n",
       "  </thead>\n",
       "  <tbody>\n",
       "    <tr>\n",
       "      <th>Delayed</th>\n",
       "      <td>424901</td>\n",
       "      <td>2993956</td>\n",
       "      <td>3418857</td>\n",
       "    </tr>\n",
       "    <tr>\n",
       "      <th>Not Delayed</th>\n",
       "      <td>9211247</td>\n",
       "      <td>1648986</td>\n",
       "      <td>10860233</td>\n",
       "    </tr>\n",
       "    <tr>\n",
       "      <th>Total</th>\n",
       "      <td>9636148</td>\n",
       "      <td>4642942</td>\n",
       "      <td>14279090</td>\n",
       "    </tr>\n",
       "  </tbody>\n",
       "</table>\n",
       "</div>"
      ],
      "text/plain": [
       "PropagatedDelay  Not Propagated  Propagated     Total\n",
       "Delay_Variable                                       \n",
       "Delayed                  424901     2993956   3418857\n",
       "Not Delayed             9211247     1648986  10860233\n",
       "Total                   9636148     4642942  14279090"
      ]
     },
     "execution_count": 33,
     "metadata": {},
     "output_type": "execute_result"
    }
   ],
   "source": [
    "# create contingency table\n",
    "data_crosstab = pd.crosstab(Cas_Delay['Delay_Variable'], Cas_Delay['PropagatedDelay'], margins=True, margins_name=\"Total\")\n",
    "data_crosstab"
   ]
  },
  {
   "cell_type": "markdown",
   "id": "fd382b95",
   "metadata": {},
   "source": [
    "Chi-square test will require the use of a contingency table, we will use the function `pd.crosstab()` to create one from the Cas_Delay table.\n",
    "\n",
    "#### Chi-Square Test Formula:\n",
    "\n",
    "Expected value is calculated by:\n",
    "$$ e = \\frac{row.sum∗col.sum}{grand.total} $$\n",
    "\n",
    "Chi-square statistic is calculated as follows:\n",
    "\n",
    "$$ \\chi^2 = \\sum\\frac{(o-e)^2}{e}  $$ \n",
    "\n",
    "o is the observed value \n",
    "\n",
    "e is the expected value\n",
    "\n",
    "#### Chi-squared test hypotheses:\n",
    "\n",
    "$H_0$ : Delay_Variable and Propagated_Delay are independent. \n",
    "\n",
    "$H_1$ : Delay_Variable and Propagated_Delay are dependent\n",
    "\n",
    "Setting a significance level of 5%, we will reject the null hypothesis if the p-value of the test is less than 0.05\n",
    "\n",
    "#### Results of Chi-Squared Test"
   ]
  },
  {
   "cell_type": "code",
   "execution_count": 34,
   "id": "134b94a5",
   "metadata": {},
   "outputs": [
    {
     "name": "stdout",
     "output_type": "stream",
     "text": [
      "chisquare-score is: 6209528.758578311  and p value is: 0.0\n"
     ]
    }
   ],
   "source": [
    "# Calcualtion of Chisquare test statistics\n",
    "chi_square = 0\n",
    "rows = Cas_Delay['Delay_Variable'].unique()\n",
    "columns = Cas_Delay['PropagatedDelay'].unique()\n",
    "for i in columns:\n",
    "    for j in rows:\n",
    "        O = data_crosstab[i][j]\n",
    "        E = data_crosstab[i]['Total'] * data_crosstab['Total'][j] / data_crosstab['Total']['Total']\n",
    "        chi_square += (O-E)**2/E\n",
    "        \n",
    "p_value = 1 - stats.norm.cdf(chi_square, (len(rows)-1)*(len(columns)-1))\n",
    "\n",
    "print(\"chisquare-score is:\", chi_square, \" and p value is:\", p_value)"
   ]
  },
  {
   "cell_type": "markdown",
   "id": "781648c6",
   "metadata": {},
   "source": [
    "Since, p-value < 0.05, we will reject the null hypothesis at 5% significance level, and conclude that there is a relationship between between Propagated Delays and the Delay_Variables.\n",
    "\n",
    "However, it must be noted that even though there is a relationship between Propagated Delays and the Delay Variables, it does not mean that the delay variables causes the delay propagation, as there could be multitudes of other reasons delays are being cascaded, such as the type of airport, type of plane etc. \n",
    "\n",
    "Therefore, just by looking at delays, we cannot conclude that we can detect cascading failures.\n",
    "\n",
    "### Question 5\n",
    "\n",
    "#### Use the available variables to construct a model that predicts delays\n",
    "\n",
    "We will be using the variables from the ontime data frame to predict Arrival Delays (ArrDelay)\n",
    "\n",
    "#### Preparing the Predictors and predicted value\n",
    "\n",
    "The predictors are namely the attributes Season, Day, TimeofDay, DepDelay, CarrierDelay, WeatherDelay, NASDelay, SecurityDelay and LateAircraftDelay, while the outcome variable is in the Delayed column.\n",
    "\n",
    "We did not select AircraftAge as Predictor as it tends to cause python to crash, so to prevent crashing we will not use it as a predictor, but it may be noted that it may be a good predictor for ArrDelay."
   ]
  },
  {
   "cell_type": "code",
   "execution_count": 35,
   "id": "63ac9ff1",
   "metadata": {},
   "outputs": [
    {
     "data": {
      "text/html": [
       "<div>\n",
       "<style scoped>\n",
       "    .dataframe tbody tr th:only-of-type {\n",
       "        vertical-align: middle;\n",
       "    }\n",
       "\n",
       "    .dataframe tbody tr th {\n",
       "        vertical-align: top;\n",
       "    }\n",
       "\n",
       "    .dataframe thead th {\n",
       "        text-align: right;\n",
       "    }\n",
       "</style>\n",
       "<table border=\"1\" class=\"dataframe\">\n",
       "  <thead>\n",
       "    <tr style=\"text-align: right;\">\n",
       "      <th></th>\n",
       "      <th>Season</th>\n",
       "      <th>Day</th>\n",
       "      <th>TimeofDay</th>\n",
       "      <th>DepDelay</th>\n",
       "      <th>CarrierDelay</th>\n",
       "      <th>WeatherDelay</th>\n",
       "      <th>NASDelay</th>\n",
       "      <th>SecurityDelay</th>\n",
       "      <th>LateAircraftDelay</th>\n",
       "      <th>Delayed</th>\n",
       "    </tr>\n",
       "  </thead>\n",
       "  <tbody>\n",
       "    <tr>\n",
       "      <th>0</th>\n",
       "      <td>Winter</td>\n",
       "      <td>Wednesday</td>\n",
       "      <td>Morning</td>\n",
       "      <td>-2.0</td>\n",
       "      <td>0</td>\n",
       "      <td>0</td>\n",
       "      <td>0</td>\n",
       "      <td>0</td>\n",
       "      <td>0</td>\n",
       "      <td>1</td>\n",
       "    </tr>\n",
       "    <tr>\n",
       "      <th>1</th>\n",
       "      <td>Winter</td>\n",
       "      <td>Wednesday</td>\n",
       "      <td>Morning</td>\n",
       "      <td>0.0</td>\n",
       "      <td>0</td>\n",
       "      <td>0</td>\n",
       "      <td>0</td>\n",
       "      <td>0</td>\n",
       "      <td>0</td>\n",
       "      <td>0</td>\n",
       "    </tr>\n",
       "    <tr>\n",
       "      <th>2</th>\n",
       "      <td>Winter</td>\n",
       "      <td>Wednesday</td>\n",
       "      <td>Evening</td>\n",
       "      <td>0.0</td>\n",
       "      <td>0</td>\n",
       "      <td>0</td>\n",
       "      <td>0</td>\n",
       "      <td>0</td>\n",
       "      <td>0</td>\n",
       "      <td>0</td>\n",
       "    </tr>\n",
       "    <tr>\n",
       "      <th>3</th>\n",
       "      <td>Winter</td>\n",
       "      <td>Wednesday</td>\n",
       "      <td>Evening</td>\n",
       "      <td>-2.0</td>\n",
       "      <td>0</td>\n",
       "      <td>0</td>\n",
       "      <td>0</td>\n",
       "      <td>0</td>\n",
       "      <td>0</td>\n",
       "      <td>0</td>\n",
       "    </tr>\n",
       "    <tr>\n",
       "      <th>4</th>\n",
       "      <td>Winter</td>\n",
       "      <td>Wednesday</td>\n",
       "      <td>Morning</td>\n",
       "      <td>-8.0</td>\n",
       "      <td>0</td>\n",
       "      <td>0</td>\n",
       "      <td>0</td>\n",
       "      <td>0</td>\n",
       "      <td>0</td>\n",
       "      <td>0</td>\n",
       "    </tr>\n",
       "    <tr>\n",
       "      <th>...</th>\n",
       "      <td>...</td>\n",
       "      <td>...</td>\n",
       "      <td>...</td>\n",
       "      <td>...</td>\n",
       "      <td>...</td>\n",
       "      <td>...</td>\n",
       "      <td>...</td>\n",
       "      <td>...</td>\n",
       "      <td>...</td>\n",
       "      <td>...</td>\n",
       "    </tr>\n",
       "    <tr>\n",
       "      <th>7453210</th>\n",
       "      <td>Winter</td>\n",
       "      <td>Saturday</td>\n",
       "      <td>Afternoon</td>\n",
       "      <td>-7.0</td>\n",
       "      <td>0</td>\n",
       "      <td>0</td>\n",
       "      <td>0</td>\n",
       "      <td>0</td>\n",
       "      <td>0</td>\n",
       "      <td>1</td>\n",
       "    </tr>\n",
       "    <tr>\n",
       "      <th>7453211</th>\n",
       "      <td>Winter</td>\n",
       "      <td>Saturday</td>\n",
       "      <td>Evening</td>\n",
       "      <td>11.0</td>\n",
       "      <td>0</td>\n",
       "      <td>0</td>\n",
       "      <td>0</td>\n",
       "      <td>0</td>\n",
       "      <td>0</td>\n",
       "      <td>1</td>\n",
       "    </tr>\n",
       "    <tr>\n",
       "      <th>7453212</th>\n",
       "      <td>Winter</td>\n",
       "      <td>Saturday</td>\n",
       "      <td>Morning</td>\n",
       "      <td>-1.0</td>\n",
       "      <td>0</td>\n",
       "      <td>0</td>\n",
       "      <td>15</td>\n",
       "      <td>0</td>\n",
       "      <td>0</td>\n",
       "      <td>1</td>\n",
       "    </tr>\n",
       "    <tr>\n",
       "      <th>7453213</th>\n",
       "      <td>Winter</td>\n",
       "      <td>Saturday</td>\n",
       "      <td>Afternoon</td>\n",
       "      <td>38.0</td>\n",
       "      <td>0</td>\n",
       "      <td>0</td>\n",
       "      <td>0</td>\n",
       "      <td>0</td>\n",
       "      <td>36</td>\n",
       "      <td>1</td>\n",
       "    </tr>\n",
       "    <tr>\n",
       "      <th>7453214</th>\n",
       "      <td>Winter</td>\n",
       "      <td>Saturday</td>\n",
       "      <td>Evening</td>\n",
       "      <td>24.0</td>\n",
       "      <td>24</td>\n",
       "      <td>0</td>\n",
       "      <td>9</td>\n",
       "      <td>0</td>\n",
       "      <td>0</td>\n",
       "      <td>1</td>\n",
       "    </tr>\n",
       "  </tbody>\n",
       "</table>\n",
       "<p>14279090 rows × 10 columns</p>\n",
       "</div>"
      ],
      "text/plain": [
       "         Season        Day  TimeofDay  DepDelay  CarrierDelay  WeatherDelay  \\\n",
       "0        Winter  Wednesday    Morning      -2.0             0             0   \n",
       "1        Winter  Wednesday    Morning       0.0             0             0   \n",
       "2        Winter  Wednesday    Evening       0.0             0             0   \n",
       "3        Winter  Wednesday    Evening      -2.0             0             0   \n",
       "4        Winter  Wednesday    Morning      -8.0             0             0   \n",
       "...         ...        ...        ...       ...           ...           ...   \n",
       "7453210  Winter   Saturday  Afternoon      -7.0             0             0   \n",
       "7453211  Winter   Saturday    Evening      11.0             0             0   \n",
       "7453212  Winter   Saturday    Morning      -1.0             0             0   \n",
       "7453213  Winter   Saturday  Afternoon      38.0             0             0   \n",
       "7453214  Winter   Saturday    Evening      24.0            24             0   \n",
       "\n",
       "         NASDelay  SecurityDelay  LateAircraftDelay  Delayed  \n",
       "0               0              0                  0        1  \n",
       "1               0              0                  0        0  \n",
       "2               0              0                  0        0  \n",
       "3               0              0                  0        0  \n",
       "4               0              0                  0        0  \n",
       "...           ...            ...                ...      ...  \n",
       "7453210         0              0                  0        1  \n",
       "7453211         0              0                  0        1  \n",
       "7453212        15              0                  0        1  \n",
       "7453213         0              0                 36        1  \n",
       "7453214         9              0                  0        1  \n",
       "\n",
       "[14279090 rows x 10 columns]"
      ]
     },
     "execution_count": 35,
     "metadata": {},
     "output_type": "execute_result"
    }
   ],
   "source": [
    "# Identifying the predictors\n",
    "Delay_Prediction = ontime[['Season', 'Day', 'TimeofDay', 'DepDelay', 'CarrierDelay', 'WeatherDelay', 'NASDelay', 'SecurityDelay', 'LateAircraftDelay', 'Delayed']]\n",
    "Delay_Prediction"
   ]
  },
  {
   "cell_type": "code",
   "execution_count": 36,
   "id": "35f61bc3",
   "metadata": {},
   "outputs": [
    {
     "name": "stdout",
     "output_type": "stream",
     "text": [
      "<class 'pandas.core.frame.DataFrame'>\n",
      "Int64Index: 14279090 entries, 0 to 7453214\n",
      "Data columns (total 10 columns):\n",
      " #   Column             Dtype  \n",
      "---  ------             -----  \n",
      " 0   Season             object \n",
      " 1   Day                object \n",
      " 2   TimeofDay          object \n",
      " 3   DepDelay           float64\n",
      " 4   CarrierDelay       int64  \n",
      " 5   WeatherDelay       int64  \n",
      " 6   NASDelay           int64  \n",
      " 7   SecurityDelay      int64  \n",
      " 8   LateAircraftDelay  int64  \n",
      " 9   Delayed            int64  \n",
      "dtypes: float64(1), int64(6), object(3)\n",
      "memory usage: 1.2+ GB\n"
     ]
    }
   ],
   "source": [
    "Delay_Prediction.info()"
   ]
  },
  {
   "cell_type": "markdown",
   "id": "4219eaab",
   "metadata": {},
   "source": [
    "We can see that some of the variables are still formatted as objects. But we can see that the predictors are a mix of categorical and continuous data. Therefore, it makes sense to use logistic regression to create a prediction model.\n",
    "\n",
    "#### Preparing the data for Logistic Regression\n",
    "\n",
    "We will convert all catergorical columns to dummy variables using the following process"
   ]
  },
  {
   "cell_type": "code",
   "execution_count": 37,
   "id": "2f62e274",
   "metadata": {},
   "outputs": [
    {
     "data": {
      "text/html": [
       "<div>\n",
       "<style scoped>\n",
       "    .dataframe tbody tr th:only-of-type {\n",
       "        vertical-align: middle;\n",
       "    }\n",
       "\n",
       "    .dataframe tbody tr th {\n",
       "        vertical-align: top;\n",
       "    }\n",
       "\n",
       "    .dataframe thead th {\n",
       "        text-align: right;\n",
       "    }\n",
       "</style>\n",
       "<table border=\"1\" class=\"dataframe\">\n",
       "  <thead>\n",
       "    <tr style=\"text-align: right;\">\n",
       "      <th></th>\n",
       "      <th>Season</th>\n",
       "      <th>Day</th>\n",
       "      <th>TimeofDay</th>\n",
       "    </tr>\n",
       "  </thead>\n",
       "  <tbody>\n",
       "    <tr>\n",
       "      <th>0</th>\n",
       "      <td>Winter</td>\n",
       "      <td>Wednesday</td>\n",
       "      <td>Morning</td>\n",
       "    </tr>\n",
       "    <tr>\n",
       "      <th>1</th>\n",
       "      <td>Winter</td>\n",
       "      <td>Wednesday</td>\n",
       "      <td>Morning</td>\n",
       "    </tr>\n",
       "    <tr>\n",
       "      <th>2</th>\n",
       "      <td>Winter</td>\n",
       "      <td>Wednesday</td>\n",
       "      <td>Evening</td>\n",
       "    </tr>\n",
       "    <tr>\n",
       "      <th>3</th>\n",
       "      <td>Winter</td>\n",
       "      <td>Wednesday</td>\n",
       "      <td>Evening</td>\n",
       "    </tr>\n",
       "    <tr>\n",
       "      <th>4</th>\n",
       "      <td>Winter</td>\n",
       "      <td>Wednesday</td>\n",
       "      <td>Morning</td>\n",
       "    </tr>\n",
       "    <tr>\n",
       "      <th>...</th>\n",
       "      <td>...</td>\n",
       "      <td>...</td>\n",
       "      <td>...</td>\n",
       "    </tr>\n",
       "    <tr>\n",
       "      <th>7453210</th>\n",
       "      <td>Winter</td>\n",
       "      <td>Saturday</td>\n",
       "      <td>Afternoon</td>\n",
       "    </tr>\n",
       "    <tr>\n",
       "      <th>7453211</th>\n",
       "      <td>Winter</td>\n",
       "      <td>Saturday</td>\n",
       "      <td>Evening</td>\n",
       "    </tr>\n",
       "    <tr>\n",
       "      <th>7453212</th>\n",
       "      <td>Winter</td>\n",
       "      <td>Saturday</td>\n",
       "      <td>Morning</td>\n",
       "    </tr>\n",
       "    <tr>\n",
       "      <th>7453213</th>\n",
       "      <td>Winter</td>\n",
       "      <td>Saturday</td>\n",
       "      <td>Afternoon</td>\n",
       "    </tr>\n",
       "    <tr>\n",
       "      <th>7453214</th>\n",
       "      <td>Winter</td>\n",
       "      <td>Saturday</td>\n",
       "      <td>Evening</td>\n",
       "    </tr>\n",
       "  </tbody>\n",
       "</table>\n",
       "<p>14279090 rows × 3 columns</p>\n",
       "</div>"
      ],
      "text/plain": [
       "         Season        Day  TimeofDay\n",
       "0        Winter  Wednesday    Morning\n",
       "1        Winter  Wednesday    Morning\n",
       "2        Winter  Wednesday    Evening\n",
       "3        Winter  Wednesday    Evening\n",
       "4        Winter  Wednesday    Morning\n",
       "...         ...        ...        ...\n",
       "7453210  Winter   Saturday  Afternoon\n",
       "7453211  Winter   Saturday    Evening\n",
       "7453212  Winter   Saturday    Morning\n",
       "7453213  Winter   Saturday  Afternoon\n",
       "7453214  Winter   Saturday    Evening\n",
       "\n",
       "[14279090 rows x 3 columns]"
      ]
     },
     "execution_count": 37,
     "metadata": {},
     "output_type": "execute_result"
    }
   ],
   "source": [
    "categorical_features = Delay_Prediction[['Season', 'Day', 'TimeofDay']]\n",
    "categorical_features"
   ]
  },
  {
   "cell_type": "markdown",
   "id": "23336221",
   "metadata": {},
   "source": [
    "We seperated the categorical variables away from the Delay_Prediction Table for easier manipulation."
   ]
  },
  {
   "cell_type": "code",
   "execution_count": 38,
   "id": "90649333",
   "metadata": {},
   "outputs": [
    {
     "name": "stdout",
     "output_type": "stream",
     "text": [
      "<class 'pandas.core.frame.DataFrame'>\n",
      "Int64Index: 14279090 entries, 0 to 7453214\n",
      "Data columns (total 12 columns):\n",
      " #   Column     Dtype\n",
      "---  ------     -----\n",
      " 0   Spring     uint8\n",
      " 1   Summer     uint8\n",
      " 2   Winter     uint8\n",
      " 3   Monday     uint8\n",
      " 4   Saturday   uint8\n",
      " 5   Sunday     uint8\n",
      " 6   Thursday   uint8\n",
      " 7   Tuesday    uint8\n",
      " 8   Wednesday  uint8\n",
      " 9   Evening    uint8\n",
      " 10  Morning    uint8\n",
      " 11  Night      uint8\n",
      "dtypes: uint8(12)\n",
      "memory usage: 272.4 MB\n"
     ]
    }
   ],
   "source": [
    "# Season\n",
    "Season = pd.get_dummies(categorical_features['Season'], drop_first = True)\n",
    "\n",
    "# Day\n",
    "Day = pd.get_dummies(categorical_features['Day'], drop_first = True)\n",
    "\n",
    "# TimeofDay \n",
    "TimeofDay = pd.get_dummies(categorical_features['TimeofDay'], drop_first = True)\n",
    "\n",
    "# Drop columns that are going to be replaced with dummy variables\n",
    "categorical_features.drop(['Season', 'Day', 'TimeofDay'], axis = 1, inplace = True)\n",
    "\n",
    "# Add in dummy variables columns\n",
    "categorical_features = pd.concat([Season, Day, TimeofDay], axis = 1)\n",
    "\n",
    "categorical_features.info()"
   ]
  },
  {
   "cell_type": "markdown",
   "id": "3af2a4bb",
   "metadata": {},
   "source": [
    "We have to change the categorical variables to a format that the Linear Regression model will understand, therefore, we will have to use dummy variables on our categorical variables, we can do this easily by employing the use of `pd.get_dummies()`."
   ]
  },
  {
   "cell_type": "code",
   "execution_count": 39,
   "id": "d535f040",
   "metadata": {},
   "outputs": [
    {
     "name": "stdout",
     "output_type": "stream",
     "text": [
      "<class 'pandas.core.frame.DataFrame'>\n",
      "Int64Index: 14279090 entries, 0 to 7453214\n",
      "Data columns (total 18 columns):\n",
      " #   Column             Dtype  \n",
      "---  ------             -----  \n",
      " 0   Spring             uint8  \n",
      " 1   Summer             uint8  \n",
      " 2   Winter             uint8  \n",
      " 3   Monday             uint8  \n",
      " 4   Saturday           uint8  \n",
      " 5   Sunday             uint8  \n",
      " 6   Thursday           uint8  \n",
      " 7   Tuesday            uint8  \n",
      " 8   Wednesday          uint8  \n",
      " 9   Evening            uint8  \n",
      " 10  Morning            uint8  \n",
      " 11  Night              uint8  \n",
      " 12  DepDelay           float64\n",
      " 13  CarrierDelay       int64  \n",
      " 14  WeatherDelay       int64  \n",
      " 15  NASDelay           int64  \n",
      " 16  SecurityDelay      int64  \n",
      " 17  LateAircraftDelay  int64  \n",
      "dtypes: float64(1), int64(5), uint8(12)\n",
      "memory usage: 926.0 MB\n"
     ]
    }
   ],
   "source": [
    "# Combining the categorical and numerical features into features\n",
    "numerical_features = Delay_Prediction[['DepDelay', 'CarrierDelay', 'WeatherDelay', 'NASDelay', 'SecurityDelay', 'LateAircraftDelay']].copy()\n",
    "\n",
    "features = pd.concat([categorical_features, numerical_features], axis=1)\n",
    "\n",
    "features.info()"
   ]
  },
  {
   "cell_type": "code",
   "execution_count": 40,
   "id": "b8f3b002",
   "metadata": {},
   "outputs": [],
   "source": [
    "# Predictors and Predicted variables\n",
    "X = features.copy()\n",
    "y = Delay_Prediction['Delayed'].copy()"
   ]
  },
  {
   "cell_type": "markdown",
   "id": "49461325",
   "metadata": {},
   "source": [
    "#### Logistic Regression\n",
    "\n",
    "Logistic Regression is a Machine Learning classification algorithm that is used to predict the probability of a categorical dependent variable. In logistic regression, the dependent variable is a binary variable that contains data coded as 1 (Arrival Delay) or 0 (No Arrival Delay). In other words, the logistic regression model predicts P(Y=1) as a function of X.\n",
    "\n",
    "#### Training and Testing data sets (80% Training, 20% Test)"
   ]
  },
  {
   "cell_type": "code",
   "execution_count": 41,
   "id": "dc8e3cad",
   "metadata": {},
   "outputs": [],
   "source": [
    "# Split the data into training (80%) and test set (20%)\n",
    "X_train, X_test, y_train, y_test = train_test_split(X, y, test_size = 0.2,random_state = 1)"
   ]
  },
  {
   "cell_type": "markdown",
   "id": "cf08f9e8",
   "metadata": {},
   "source": [
    "#### Extend the results: Logistic Regression\n",
    "\n",
    "Using the `LogisticRegression()` function imported from the `sklearn.linear_model` package we can create a Logistic Regression classifier object, we then, fit the model on the train data set using `.fit()` and perform prediction on the test set using `.predict()`."
   ]
  },
  {
   "cell_type": "code",
   "execution_count": 42,
   "id": "58b5995b",
   "metadata": {},
   "outputs": [],
   "source": [
    "# instantiate the model (using the default parameters)\n",
    "logreg = LogisticRegression()\n",
    "\n",
    "# fit the model with data\n",
    "logreg.fit(X_train,y_train)\n",
    "\n",
    "# making predictions\n",
    "y_pred = logreg.predict(X_test)"
   ]
  },
  {
   "cell_type": "markdown",
   "id": "2c16584f",
   "metadata": {},
   "source": [
    "#### Model Evaluation\n",
    "\n",
    "The model accuracy is evaluated using a confusion matrix.\n",
    "\n",
    "The confusion matrix is created by first creating a contingency table using the `metrics.confusion_matrix` function holding the values of y_test, y_pred."
   ]
  },
  {
   "cell_type": "code",
   "execution_count": 43,
   "id": "55107c6c",
   "metadata": {},
   "outputs": [
    {
     "data": {
      "text/plain": [
       "array([[1444768,   81249],\n",
       "       [ 435313,  894488]])"
      ]
     },
     "execution_count": 43,
     "metadata": {},
     "output_type": "execute_result"
    }
   ],
   "source": [
    "# Confusion matrix\n",
    "cnf_matrix = metrics.confusion_matrix(y_test, y_pred)\n",
    "cnf_matrix"
   ]
  },
  {
   "cell_type": "code",
   "execution_count": 44,
   "id": "bd45a799",
   "metadata": {},
   "outputs": [
    {
     "data": {
      "text/plain": [
       "Text(0.5, 257.44, 'Predicted Arrival Delay')"
      ]
     },
     "execution_count": 44,
     "metadata": {},
     "output_type": "execute_result"
    },
    {
     "data": {
      "image/png": "[encoded data removed]",
      "text/plain": [
       "<Figure size 432x288 with 2 Axes>"
      ]
     },
     "metadata": {
      "needs_background": "light"
     },
     "output_type": "display_data"
    }
   ],
   "source": [
    "# Visualising Confusion Matrix\n",
    "class_names = [0,1] # name  of classes\n",
    "fig, ax = plt.subplots()\n",
    "tick_marks = np.arange(len(class_names))\n",
    "plt.xticks(tick_marks, class_names)\n",
    "plt.yticks(tick_marks, class_names)\n",
    "\n",
    "# create heatmap\n",
    "sns.heatmap(pd.DataFrame(cnf_matrix), annot = True, cmap = \"YlGnBu\", fmt = 'd')\n",
    "ax.xaxis.set_label_position(\"top\")\n",
    "plt.tight_layout()\n",
    "plt.title('Confusion matrix', y = 1.1)\n",
    "plt.ylabel('Actual Arrival Delay')\n",
    "plt.xlabel('Predicted Arrival Delay')"
   ]
  },
  {
   "cell_type": "code",
   "execution_count": 45,
   "id": "a0b09cd7",
   "metadata": {},
   "outputs": [
    {
     "name": "stdout",
     "output_type": "stream",
     "text": [
      "Accuracy: 0.8191194256776867\n",
      "Precision: 0.916730635406877\n",
      "Recall: 0.6726480127477721\n"
     ]
    }
   ],
   "source": [
    "print(\"Accuracy:\",metrics.accuracy_score(y_test, y_pred))\n",
    "print(\"Precision:\",metrics.precision_score(y_test, y_pred))\n",
    "print(\"Recall:\",metrics.recall_score(y_test, y_pred))"
   ]
  },
  {
   "cell_type": "markdown",
   "id": "294ff48a",
   "metadata": {},
   "source": [
    "Looking at the confusion matrix, we can see that the logistic regression model correctly predicted 894,488 “Arrival Delay” and 1,444,768 “No Arrival Delay”, and only wrongly predicted 81,249 “Arrival Delay” and 435,313 “No Arrival Delay”. This gives us a accuracy rating of 81.9%.\n",
    "\n",
    "#### Plotting ROC Curve\n",
    "\n",
    "We will be using a ROC Curve to further evaluate our prediction model, Area under ROC curve (AUC) is often used as a measure of quality of the classification models. A random classifier has an area under the curve of 0.5, while AUC for a perfect classifier is equal to 1."
   ]
  },
  {
   "cell_type": "code",
   "execution_count": 46,
   "id": "5450bfbe",
   "metadata": {},
   "outputs": [
    {
     "data": {
      "image/png": "[encoded data removed]",
      "text/plain": [
       "<Figure size 432x288 with 1 Axes>"
      ]
     },
     "metadata": {
      "needs_background": "light"
     },
     "output_type": "display_data"
    }
   ],
   "source": [
    "# ROC Curve\n",
    "y_pred_proba = logreg.predict_proba(X_test)[::,1]\n",
    "fpr, tpr, _ = metrics.roc_curve(y_test,  y_pred_proba)\n",
    "auc = metrics.roc_auc_score(y_test, y_pred_proba)\n",
    "plt.plot(fpr,tpr,label = \"Logistic Regression, auc=\" + str(auc))\n",
    "plt.legend(loc = 4)\n",
    "plt.plot([0, 1], [0, 1], color = 'black', lw = 1, linestyle = '--')\n",
    "plt.show()"
   ]
  },
  {
   "cell_type": "markdown",
   "id": "bb5d8068",
   "metadata": {},
   "source": [
    "#### Prediction Model Effectiveness\n",
    "\n",
    "The model has a accuracy level of 81.9% in predicting Arrival Delays. Given if the 2 groups are of equal size, by chance alone, one will expect a hit ratio of 50%, thus, since there is an improvement over chance of more than 25%, it indicates satisfactory validity. This result is further backed by the 0.87 AUC value returned by the model, which shows that it is a strong classifier of Arrival Delays."
   ]
  },
  {
   "cell_type": "markdown",
   "id": "c21dc6f1",
   "metadata": {},
   "source": [
    "## References\n",
    "\n",
    "Brownlee, J. (2020, August 20). How to calculate correlation between variables in Python. Machine Learning Mastery. Retrieved February 3, 2022, \n",
    "from https://machinelearningmastery.com/how-to-use-correlation-to-understand-the-relationship-between-variables/\n",
    "    \n",
    "De-Yu, C. (2022, January 14). Chi-square test, with python. Medium. Retrieved February 3, 2022, \n",
    "from https://towardsdatascience.com/chi-square-test-with-python-d8ba98117626 \n",
    "    \n",
    "Scipy.stats.shapiro. scipy.stats.shapiro - SciPy v1.7.1 Manual. (n.d.). Retrieved February 3, 2022, \n",
    "from https://docs.scipy.org/doc/scipy/reference/generated/scipy.stats.shapiro.html \n",
    "    \n",
    "Navlani, A. (2019, December 17). Python logistic regression tutorial with Sklearn &amp; Scikit. DataCamp Community. Retrieved March 4, 2022, from https://www.datacamp.com/community/tutorials/understanding-logistic-regression-python \n",
    "\n",
    "Curry, R. (2021, October 25). Simplified logistic regression: Classification with categorical variables in Python. Medium. Retrieved March 4, 2022, from https://medium.com/@curryrowan/simplified-logistic-regression-classification-with-categorical-variables-in-python-1ce50c4b137 "
   ]
  }
 ],
 "metadata": {
  "kernelspec": {
   "display_name": "Python 3 (ipykernel)",
   "language": "python",
   "name": "python3"
  },
  "language_info": {
   "codemirror_mode": {
    "name": "ipython",
    "version": 3
   },
   "file_extension": ".py",
   "mimetype": "text/x-python",
   "name": "python",
   "nbconvert_exporter": "python",
   "pygments_lexer": "ipython3",
   "version": "3.8.8"
  }
 },
 "nbformat": 4,
 "nbformat_minor": 5
}
